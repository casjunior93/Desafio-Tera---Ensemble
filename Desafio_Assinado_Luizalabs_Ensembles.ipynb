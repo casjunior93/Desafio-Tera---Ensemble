{
  "nbformat": 4,
  "nbformat_minor": 0,
  "metadata": {
    "colab": {
      "name": "Desafio Assinado - Luizalabs - Ensembles",
      "provenance": [],
      "collapsed_sections": [],
      "include_colab_link": true
    },
    "kernelspec": {
      "name": "python3",
      "display_name": "Python 3"
    },
    "language_info": {
      "name": "python"
    }
  },
  "cells": [
    {
      "cell_type": "markdown",
      "metadata": {
        "id": "view-in-github",
        "colab_type": "text"
      },
      "source": [
        "<a href=\"https://colab.research.google.com/github/casjunior93/Desafio-Tera---Ensemble/blob/main/Desafio_Assinado_Luizalabs_Ensembles.ipynb\" target=\"_parent\"><img src=\"https://colab.research.google.com/assets/colab-badge.svg\" alt=\"Open In Colab\"/></a>"
      ]
    },
    {
      "cell_type": "markdown",
      "metadata": {
        "id": "hdIUkoLIvKrr"
      },
      "source": [
        "# Desafio de Ensembles: Previsão de _Churn_ de Clientes\n",
        "\n",
        "___\n",
        "\n",
        "\n",
        "### Allan Almeida Dieguez\n",
        "\n",
        "> #### Tera / Luizalabs\n",
        "\n",
        "#### Junho de 2021\n",
        "\n",
        "___\n"
      ]
    },
    {
      "cell_type": "markdown",
      "metadata": {
        "id": "bLU_dncDhl_m"
      },
      "source": [
        "# Contexto do Desafio\n"
      ]
    },
    {
      "cell_type": "markdown",
      "metadata": {
        "id": "ywZJMyZkMv3Z"
      },
      "source": [
        "\n",
        "## *Churn* de Clientes\n",
        "\n",
        "O desafio de prever se um cliente irá sair da Base de Clientes Ativos (também conhecido como *churn*) não é um problema exclusivo do varejo, sendo uma área de estudos constante da maioria das indústrias e empresas de serviços que dependem da retenção. \n",
        "\n",
        "Esse é um exemplo do tipo de problema que um cientista do *Chapter* de Ciência de Dados do Luizalabs entra de cabeça e cujas soluções servem para alavancar várias frentes de trabalho. A solução em si já traz muito valor, se tiver alto índice de acertos pode ser usada para elencar automaticamente clientes com alto risco de *churn* para uma promoção agressiva com o objetivo retê-lo na base. \n",
        "\n",
        "Também há muito valor nos *insights* e na validação de hipóteses que acontece durante o processo de análise do problema e das soluções. Pode-se verificar através de experimentação que, por exemplo, um cliente que compra exclusivamente em datas especiais ou eventos promocionais tem uma chance menor de ser um *churn* do que um que compra grandes volumes do mesmo produto. "
      ]
    },
    {
      "cell_type": "markdown",
      "metadata": {
        "id": "pXN04kWGMv5n"
      },
      "source": [
        "## Objetivos do Desafio\n",
        "\n",
        "Nesse desafio, construído em uma parceria da **Tera** e o **Luizalabs**, o **objetivo principal** será construir algumas soluções baseadas em *machine learning* para prever se um dado cliente do *e-commerce* do **Magalu** continuará comprando na plataforma em 2020 usando algumas características próprias do cliente e seu histórico de compras no ano anterior. No final, algumas dessas soluções devem ser combinadas em um *ensemble* para criar uma solução única com o objetivo de alavancar ainda mais os resultados.\n",
        "\n",
        "Para que o **objetivo principal** seja cumprido, será necessário construir uma forma de visualização das soluções criadas e a comparação com o **modelo _baseline_** e com o **modelo de _ensemble_** criados no processo. O formato sugerido é um **tabela de resultados** contendo as métricas de sucesso de cada modelo criado.\n",
        "\n",
        "O **objetivo secundário** é o levantamento de hipóteses e *insights* que surgirem durante as experimentações. É interessante fazer isso desde o início como parte da análise exploratória, documentando qualquer indício de informação nova sobre o problema. Também é uma boa prática avaliar os modelos treinados, seja através da exploração de seus parâmetros (por exemplo, os pesos de um modelo linear) ou usando técnicas avançadas como o [SHAP](https://www.kaggle.com/dansbecker/shap-values), buscando relacionar como as _features_ influenciam as respostas do modelo.\n",
        "\n",
        "A forma mais simples de cumprir o **objetivo secundário** é a documentação das etapas de análise e exploração de forma resumida em um relatório que compila as principais hipóteses e _insights_. Esse relatório pode ser um documento de texto na forma de um **diário de bordo** ou mesmo uma **seção do próprio notebook** em que a solução foi desenvolvida."
      ]
    },
    {
      "cell_type": "markdown",
      "metadata": {
        "id": "uUNdtKM4Mv72"
      },
      "source": [
        "## Pontuação no Desafio\n",
        "\n",
        "O desafio também possui um **_dataset_ de pontuação**, contendo dados de clientes que não estão nem nas bases de treino nem nas de teste. Para esses clientes não foram disponibilizadas as respostas (_targets_), sendo portanto impossível verificar durante o desenvolvimento da solução se o modelo está acertando ou não. \n",
        "\n",
        "O objetivo desse _dataset_ é permitir, de forma justa, que os alunos possam comparar suas melhores soluções com as dos outros. Através desse [_link_](https://forms.gle/9Vb4VDVejXLz6wi67) é possível fazer o envio do **arquivo de respostas** do desafio. No fim do desafio, será mostrado o _ranking_ dos envios dos alunos. \n",
        "\n",
        "_Let the Games Begin!_ ="
      ]
    },
    {
      "cell_type": "markdown",
      "metadata": {
        "id": "qUkvFE-_q98d"
      },
      "source": [
        "# Base de Dados\n",
        "\n",
        "Todos os dados disponibilizados para esse desafio estão em arquivos no formato **_csv_**, podendo ser baixados para serem trabalhados localmente ou em um notebook do **_Google Colab_** como este aqui. \n",
        "\n",
        "Os dados sensíveis ou privados de clientes e produtos estão todos anonimizados, respeitando a privacidade dos mesmos e evitando o vazamento de informações estratégicas da empresa. \n",
        "\n",
        "Esses dados anonimizados incluem informações de **IDs de entidades** (clientes, vendas e produtos), os **estados** de origem do cliente e de destino do produto e a **estrutura mercadológica** dos produtos (nomes de categorias e subcategorias às quais pertencem), assim como sua **descrição** (nome do produto incluso).\n",
        "\n"
      ]
    },
    {
      "cell_type": "markdown",
      "metadata": {
        "id": "E3k03tlYMnrh"
      },
      "source": [
        "## Definições de Código\n",
        "\n",
        "Algumas definições de ambiente serão definidas nessa seção para facilitar o acesso aos dados."
      ]
    },
    {
      "cell_type": "markdown",
      "metadata": {
        "id": "fkel3fJBV6wD"
      },
      "source": [
        "#### Imports"
      ]
    },
    {
      "cell_type": "code",
      "metadata": {
        "id": "oTyQ4dZyO1Iz"
      },
      "source": [
        "import gdown\n",
        "import numpy as np\n",
        "import pandas as pd\n",
        "import warnings\n",
        "warnings.filterwarnings('ignore')"
      ],
      "execution_count": 1,
      "outputs": []
    },
    {
      "cell_type": "markdown",
      "metadata": {
        "id": "aATp5BaXNbdk"
      },
      "source": [
        "### Estrutura de pastas\n",
        "\n",
        "Criação da estrutura de pastas antes do _download_."
      ]
    },
    {
      "cell_type": "code",
      "metadata": {
        "colab": {
          "base_uri": "https://localhost:8080/"
        },
        "id": "ml0PRnbGMnz3",
        "outputId": "22a7f88b-c7ae-432b-f6f3-f74428960708"
      },
      "source": [
        "%%bash\n",
        "if [  -d \"data\" ]\n",
        "then \n",
        "    echo \"folder 'data' already created, do nothing\" \n",
        "else\n",
        "    mkdir data\n",
        "    echo \"created 'data' folder\"\n",
        "fi"
      ],
      "execution_count": 2,
      "outputs": [
        {
          "output_type": "stream",
          "name": "stdout",
          "text": [
            "folder 'data' already created, do nothing\n"
          ]
        }
      ]
    },
    {
      "cell_type": "markdown",
      "metadata": {
        "id": "ffOfM-CBQB2C"
      },
      "source": [
        "### URLs e Nomes de Arquivos"
      ]
    },
    {
      "cell_type": "code",
      "metadata": {
        "id": "glm5P7OjQB-o"
      },
      "source": [
        "FILE_INFO = {\n",
        "    'client_tr': {\n",
        "        'url':      'https://drive.google.com/uc?id=1GaDgzqFJz-ATMU5ePDD7BPjpSjzZ7kQm',\n",
        "        'output':   'data/client.train.csv'\n",
        "    },\n",
        "    'client_te': {\n",
        "        'url':      'https://drive.google.com/uc?id=1Pg6AIpM-krtf1aNS3IKUSkoHhun_OxKw',\n",
        "        'output':   'data/client.test.csv'\n",
        "    },\n",
        "    'client_ch': {\n",
        "        'url':      'https://drive.google.com/uc?id=1JBo7SlIuzmkQgRg9VytkNgXLhZyKmPJV',\n",
        "        'output':   'data/client.challenge.csv'\n",
        "    },\n",
        "    'orders': {\n",
        "        'url':      'https://drive.google.com/uc?id=1sk7p66kMAu4ZfAUmYVH0YF-cx2kHd4UZ',\n",
        "        'output':   'data/orders.csv'\n",
        "    },\n",
        "    'product': {\n",
        "        'url':      'https://drive.google.com/uc?id=1wU65H2mwrdd8BhVM8hITCB9sfRVNHFwQ',\n",
        "        'output':   'data/product.csv'\n",
        "    }\n",
        "}"
      ],
      "execution_count": 3,
      "outputs": []
    },
    {
      "cell_type": "markdown",
      "metadata": {
        "id": "hIBeRQuUrPze"
      },
      "source": [
        "## Descrição das Tabelas e Colunas\n",
        "\n",
        "Nessa seção serão descritas as tabelas e suas colunas do desafio. Os links para os arquivos e a descrição de cada um está nas seções a seguir. Algumas definições de código e extrações já serão feitas nesse momento, para facilitar o uso dos dados no restante do _notebook_ e para facilitar a explicação de cada elemento."
      ]
    },
    {
      "cell_type": "markdown",
      "metadata": {
        "id": "VTY2UIKqswVc"
      },
      "source": [
        "### Dados de Clientes\n",
        "\n",
        "Os dados de clientes estão contidos em **3 arquivos** _csv_ já separados em **treino**, **teste** e **desafio**. Isso foi feito previamente para que os três _datasets_ tivessem distribuições justas das **_features_ de interesse**, representando fielmente o domínio do problema."
      ]
    },
    {
      "cell_type": "markdown",
      "metadata": {
        "id": "kB6cROyqVEWw"
      },
      "source": [
        "#### Colunas das Tabelas\n",
        "\n",
        "As colunas para os três arquivos são:\n",
        "\n",
        "- `client_id`: ID global único do cliente\n",
        "- `birthdate`: data de nascimento do cliente\n",
        "- `state`: estado onde o cliente mora\n",
        "- `gender`: gênero declarado pelo cliente\n",
        "- `is_churn`: variável dependente (_target_) que diz se o cliente será _churn_ ou não"
      ]
    },
    {
      "cell_type": "markdown",
      "metadata": {
        "id": "89LBPqeIK40r"
      },
      "source": [
        "#### Dados de Treino: _clients.train.csv_\n",
        "\n",
        "Os **dados de treino** estão [neste arquivo](https://drive.google.com/uc?id=1Pg6AIpM-krtf1aNS3IKUSkoHhun_OxKw) do _Google Drive_."
      ]
    },
    {
      "cell_type": "code",
      "metadata": {
        "id": "vObtcnw4Wb7U"
      },
      "source": [
        "key = 'client_tr'"
      ],
      "execution_count": 4,
      "outputs": []
    },
    {
      "cell_type": "code",
      "metadata": {
        "colab": {
          "base_uri": "https://localhost:8080/",
          "height": 105
        },
        "id": "-TOYapcxO-IW",
        "outputId": "e166605e-4f30-4856-864e-2599a47a658a"
      },
      "source": [
        " gdown.download(**FILE_INFO[key], quiet=0)"
      ],
      "execution_count": 10,
      "outputs": [
        {
          "output_type": "stream",
          "name": "stderr",
          "text": [
            "Downloading...\n",
            "From: https://drive.google.com/uc?id=1GaDgzqFJz-ATMU5ePDD7BPjpSjzZ7kQm\n",
            "To: /content/data/client.train.csv\n",
            "100%|██████████| 788k/788k [00:00<00:00, 6.10MB/s]\n"
          ]
        },
        {
          "output_type": "execute_result",
          "data": {
            "text/plain": [
              "'data/client.train.csv'"
            ],
            "application/vnd.google.colaboratory.intrinsic+json": {
              "type": "string"
            }
          },
          "metadata": {},
          "execution_count": 10
        }
      ]
    },
    {
      "cell_type": "code",
      "metadata": {
        "colab": {
          "base_uri": "https://localhost:8080/",
          "height": 238
        },
        "id": "RzwR92azLgaw",
        "outputId": "b5b6622d-4311-49ec-eb03-a0adabc0ab8e"
      },
      "source": [
        "clients_tr = pd.read_csv(\n",
        "    FILE_INFO[key]['output'],\n",
        "    index_col=0, \n",
        "    sep=',', \n",
        "    encoding='utf-8',\n",
        "    parse_dates=['birthdate']\n",
        ")\n",
        "clients_tr.head()"
      ],
      "execution_count": 11,
      "outputs": [
        {
          "output_type": "execute_result",
          "data": {
            "text/plain": [
              "           birthdate state gender  is_churn\n",
              "client_id                                  \n",
              "cx05072   1972-03-22  st25    cg2     False\n",
              "cx03836   1966-08-14  st15    cg1     False\n",
              "cx08472   1954-08-07  st15    cg1     False\n",
              "cx12946   1955-11-16  st15    cg1     False\n",
              "cx19045   1958-10-25  st15    cg2     False"
            ],
            "text/html": [
              "\n",
              "  <div id=\"df-6226c190-2e6b-4014-ac9d-506c4fb16ede\">\n",
              "    <div class=\"colab-df-container\">\n",
              "      <div>\n",
              "<style scoped>\n",
              "    .dataframe tbody tr th:only-of-type {\n",
              "        vertical-align: middle;\n",
              "    }\n",
              "\n",
              "    .dataframe tbody tr th {\n",
              "        vertical-align: top;\n",
              "    }\n",
              "\n",
              "    .dataframe thead th {\n",
              "        text-align: right;\n",
              "    }\n",
              "</style>\n",
              "<table border=\"1\" class=\"dataframe\">\n",
              "  <thead>\n",
              "    <tr style=\"text-align: right;\">\n",
              "      <th></th>\n",
              "      <th>birthdate</th>\n",
              "      <th>state</th>\n",
              "      <th>gender</th>\n",
              "      <th>is_churn</th>\n",
              "    </tr>\n",
              "    <tr>\n",
              "      <th>client_id</th>\n",
              "      <th></th>\n",
              "      <th></th>\n",
              "      <th></th>\n",
              "      <th></th>\n",
              "    </tr>\n",
              "  </thead>\n",
              "  <tbody>\n",
              "    <tr>\n",
              "      <th>cx05072</th>\n",
              "      <td>1972-03-22</td>\n",
              "      <td>st25</td>\n",
              "      <td>cg2</td>\n",
              "      <td>False</td>\n",
              "    </tr>\n",
              "    <tr>\n",
              "      <th>cx03836</th>\n",
              "      <td>1966-08-14</td>\n",
              "      <td>st15</td>\n",
              "      <td>cg1</td>\n",
              "      <td>False</td>\n",
              "    </tr>\n",
              "    <tr>\n",
              "      <th>cx08472</th>\n",
              "      <td>1954-08-07</td>\n",
              "      <td>st15</td>\n",
              "      <td>cg1</td>\n",
              "      <td>False</td>\n",
              "    </tr>\n",
              "    <tr>\n",
              "      <th>cx12946</th>\n",
              "      <td>1955-11-16</td>\n",
              "      <td>st15</td>\n",
              "      <td>cg1</td>\n",
              "      <td>False</td>\n",
              "    </tr>\n",
              "    <tr>\n",
              "      <th>cx19045</th>\n",
              "      <td>1958-10-25</td>\n",
              "      <td>st15</td>\n",
              "      <td>cg2</td>\n",
              "      <td>False</td>\n",
              "    </tr>\n",
              "  </tbody>\n",
              "</table>\n",
              "</div>\n",
              "      <button class=\"colab-df-convert\" onclick=\"convertToInteractive('df-6226c190-2e6b-4014-ac9d-506c4fb16ede')\"\n",
              "              title=\"Convert this dataframe to an interactive table.\"\n",
              "              style=\"display:none;\">\n",
              "        \n",
              "  <svg xmlns=\"http://www.w3.org/2000/svg\" height=\"24px\"viewBox=\"0 0 24 24\"\n",
              "       width=\"24px\">\n",
              "    <path d=\"M0 0h24v24H0V0z\" fill=\"none\"/>\n",
              "    <path d=\"M18.56 5.44l.94 2.06.94-2.06 2.06-.94-2.06-.94-.94-2.06-.94 2.06-2.06.94zm-11 1L8.5 8.5l.94-2.06 2.06-.94-2.06-.94L8.5 2.5l-.94 2.06-2.06.94zm10 10l.94 2.06.94-2.06 2.06-.94-2.06-.94-.94-2.06-.94 2.06-2.06.94z\"/><path d=\"M17.41 7.96l-1.37-1.37c-.4-.4-.92-.59-1.43-.59-.52 0-1.04.2-1.43.59L10.3 9.45l-7.72 7.72c-.78.78-.78 2.05 0 2.83L4 21.41c.39.39.9.59 1.41.59.51 0 1.02-.2 1.41-.59l7.78-7.78 2.81-2.81c.8-.78.8-2.07 0-2.86zM5.41 20L4 18.59l7.72-7.72 1.47 1.35L5.41 20z\"/>\n",
              "  </svg>\n",
              "      </button>\n",
              "      \n",
              "  <style>\n",
              "    .colab-df-container {\n",
              "      display:flex;\n",
              "      flex-wrap:wrap;\n",
              "      gap: 12px;\n",
              "    }\n",
              "\n",
              "    .colab-df-convert {\n",
              "      background-color: #E8F0FE;\n",
              "      border: none;\n",
              "      border-radius: 50%;\n",
              "      cursor: pointer;\n",
              "      display: none;\n",
              "      fill: #1967D2;\n",
              "      height: 32px;\n",
              "      padding: 0 0 0 0;\n",
              "      width: 32px;\n",
              "    }\n",
              "\n",
              "    .colab-df-convert:hover {\n",
              "      background-color: #E2EBFA;\n",
              "      box-shadow: 0px 1px 2px rgba(60, 64, 67, 0.3), 0px 1px 3px 1px rgba(60, 64, 67, 0.15);\n",
              "      fill: #174EA6;\n",
              "    }\n",
              "\n",
              "    [theme=dark] .colab-df-convert {\n",
              "      background-color: #3B4455;\n",
              "      fill: #D2E3FC;\n",
              "    }\n",
              "\n",
              "    [theme=dark] .colab-df-convert:hover {\n",
              "      background-color: #434B5C;\n",
              "      box-shadow: 0px 1px 3px 1px rgba(0, 0, 0, 0.15);\n",
              "      filter: drop-shadow(0px 1px 2px rgba(0, 0, 0, 0.3));\n",
              "      fill: #FFFFFF;\n",
              "    }\n",
              "  </style>\n",
              "\n",
              "      <script>\n",
              "        const buttonEl =\n",
              "          document.querySelector('#df-6226c190-2e6b-4014-ac9d-506c4fb16ede button.colab-df-convert');\n",
              "        buttonEl.style.display =\n",
              "          google.colab.kernel.accessAllowed ? 'block' : 'none';\n",
              "\n",
              "        async function convertToInteractive(key) {\n",
              "          const element = document.querySelector('#df-6226c190-2e6b-4014-ac9d-506c4fb16ede');\n",
              "          const dataTable =\n",
              "            await google.colab.kernel.invokeFunction('convertToInteractive',\n",
              "                                                     [key], {});\n",
              "          if (!dataTable) return;\n",
              "\n",
              "          const docLinkHtml = 'Like what you see? Visit the ' +\n",
              "            '<a target=\"_blank\" href=https://colab.research.google.com/notebooks/data_table.ipynb>data table notebook</a>'\n",
              "            + ' to learn more about interactive tables.';\n",
              "          element.innerHTML = '';\n",
              "          dataTable['output_type'] = 'display_data';\n",
              "          await google.colab.output.renderOutput(dataTable, element);\n",
              "          const docLink = document.createElement('div');\n",
              "          docLink.innerHTML = docLinkHtml;\n",
              "          element.appendChild(docLink);\n",
              "        }\n",
              "      </script>\n",
              "    </div>\n",
              "  </div>\n",
              "  "
            ]
          },
          "metadata": {},
          "execution_count": 11
        }
      ]
    },
    {
      "cell_type": "markdown",
      "metadata": {
        "id": "b3RjoNHSWB37"
      },
      "source": [
        "#### Dados de Teste: _clients.test.csv_\n",
        "\n",
        "Os **dados de teste** estão [neste arquivo](https://drive.google.com/uc?id=1Pg6AIpM-krtf1aNS3IKUSkoHhun_OxKw) do _Google Drive_."
      ]
    },
    {
      "cell_type": "code",
      "metadata": {
        "id": "7KEDMsoKWUo2"
      },
      "source": [
        "key = 'client_te'"
      ],
      "execution_count": 12,
      "outputs": []
    },
    {
      "cell_type": "code",
      "metadata": {
        "colab": {
          "base_uri": "https://localhost:8080/",
          "height": 105
        },
        "id": "ZsLl1xOJWB38",
        "outputId": "40fcdaa4-f2ce-4a18-868f-d62ed61d723c"
      },
      "source": [
        " gdown.download(**FILE_INFO[key], quiet=0)"
      ],
      "execution_count": 13,
      "outputs": [
        {
          "output_type": "stream",
          "name": "stderr",
          "text": [
            "Downloading...\n",
            "From: https://drive.google.com/uc?id=1Pg6AIpM-krtf1aNS3IKUSkoHhun_OxKw\n",
            "To: /content/data/client.test.csv\n",
            "100%|██████████| 263k/263k [00:00<00:00, 2.47MB/s]\n"
          ]
        },
        {
          "output_type": "execute_result",
          "data": {
            "text/plain": [
              "'data/client.test.csv'"
            ],
            "application/vnd.google.colaboratory.intrinsic+json": {
              "type": "string"
            }
          },
          "metadata": {},
          "execution_count": 13
        }
      ]
    },
    {
      "cell_type": "code",
      "metadata": {
        "colab": {
          "base_uri": "https://localhost:8080/",
          "height": 238
        },
        "id": "p67ucY_MWB39",
        "outputId": "1f003c0b-6210-4edc-af9b-a80017cbda45"
      },
      "source": [
        "clients_te = pd.read_csv(\n",
        "    FILE_INFO[key]['output'],\n",
        "    index_col=0, \n",
        "    sep=',', \n",
        "    encoding='utf-8',\n",
        "    parse_dates=['birthdate']\n",
        ")\n",
        "clients_te.head()"
      ],
      "execution_count": 14,
      "outputs": [
        {
          "output_type": "execute_result",
          "data": {
            "text/plain": [
              "           birthdate state gender  is_churn\n",
              "client_id                                  \n",
              "cx06840   1982-12-03  st15    cg1     False\n",
              "cx01931   1979-05-09  st15    cg1     False\n",
              "cx35431   1965-05-09  st15    cg1     False\n",
              "cx36233   1954-03-15  st15    cg2     False\n",
              "cx13540   1965-06-19  st15    cg1     False"
            ],
            "text/html": [
              "\n",
              "  <div id=\"df-c9e61f8d-8a9a-42f7-ae03-9747a16e20d8\">\n",
              "    <div class=\"colab-df-container\">\n",
              "      <div>\n",
              "<style scoped>\n",
              "    .dataframe tbody tr th:only-of-type {\n",
              "        vertical-align: middle;\n",
              "    }\n",
              "\n",
              "    .dataframe tbody tr th {\n",
              "        vertical-align: top;\n",
              "    }\n",
              "\n",
              "    .dataframe thead th {\n",
              "        text-align: right;\n",
              "    }\n",
              "</style>\n",
              "<table border=\"1\" class=\"dataframe\">\n",
              "  <thead>\n",
              "    <tr style=\"text-align: right;\">\n",
              "      <th></th>\n",
              "      <th>birthdate</th>\n",
              "      <th>state</th>\n",
              "      <th>gender</th>\n",
              "      <th>is_churn</th>\n",
              "    </tr>\n",
              "    <tr>\n",
              "      <th>client_id</th>\n",
              "      <th></th>\n",
              "      <th></th>\n",
              "      <th></th>\n",
              "      <th></th>\n",
              "    </tr>\n",
              "  </thead>\n",
              "  <tbody>\n",
              "    <tr>\n",
              "      <th>cx06840</th>\n",
              "      <td>1982-12-03</td>\n",
              "      <td>st15</td>\n",
              "      <td>cg1</td>\n",
              "      <td>False</td>\n",
              "    </tr>\n",
              "    <tr>\n",
              "      <th>cx01931</th>\n",
              "      <td>1979-05-09</td>\n",
              "      <td>st15</td>\n",
              "      <td>cg1</td>\n",
              "      <td>False</td>\n",
              "    </tr>\n",
              "    <tr>\n",
              "      <th>cx35431</th>\n",
              "      <td>1965-05-09</td>\n",
              "      <td>st15</td>\n",
              "      <td>cg1</td>\n",
              "      <td>False</td>\n",
              "    </tr>\n",
              "    <tr>\n",
              "      <th>cx36233</th>\n",
              "      <td>1954-03-15</td>\n",
              "      <td>st15</td>\n",
              "      <td>cg2</td>\n",
              "      <td>False</td>\n",
              "    </tr>\n",
              "    <tr>\n",
              "      <th>cx13540</th>\n",
              "      <td>1965-06-19</td>\n",
              "      <td>st15</td>\n",
              "      <td>cg1</td>\n",
              "      <td>False</td>\n",
              "    </tr>\n",
              "  </tbody>\n",
              "</table>\n",
              "</div>\n",
              "      <button class=\"colab-df-convert\" onclick=\"convertToInteractive('df-c9e61f8d-8a9a-42f7-ae03-9747a16e20d8')\"\n",
              "              title=\"Convert this dataframe to an interactive table.\"\n",
              "              style=\"display:none;\">\n",
              "        \n",
              "  <svg xmlns=\"http://www.w3.org/2000/svg\" height=\"24px\"viewBox=\"0 0 24 24\"\n",
              "       width=\"24px\">\n",
              "    <path d=\"M0 0h24v24H0V0z\" fill=\"none\"/>\n",
              "    <path d=\"M18.56 5.44l.94 2.06.94-2.06 2.06-.94-2.06-.94-.94-2.06-.94 2.06-2.06.94zm-11 1L8.5 8.5l.94-2.06 2.06-.94-2.06-.94L8.5 2.5l-.94 2.06-2.06.94zm10 10l.94 2.06.94-2.06 2.06-.94-2.06-.94-.94-2.06-.94 2.06-2.06.94z\"/><path d=\"M17.41 7.96l-1.37-1.37c-.4-.4-.92-.59-1.43-.59-.52 0-1.04.2-1.43.59L10.3 9.45l-7.72 7.72c-.78.78-.78 2.05 0 2.83L4 21.41c.39.39.9.59 1.41.59.51 0 1.02-.2 1.41-.59l7.78-7.78 2.81-2.81c.8-.78.8-2.07 0-2.86zM5.41 20L4 18.59l7.72-7.72 1.47 1.35L5.41 20z\"/>\n",
              "  </svg>\n",
              "      </button>\n",
              "      \n",
              "  <style>\n",
              "    .colab-df-container {\n",
              "      display:flex;\n",
              "      flex-wrap:wrap;\n",
              "      gap: 12px;\n",
              "    }\n",
              "\n",
              "    .colab-df-convert {\n",
              "      background-color: #E8F0FE;\n",
              "      border: none;\n",
              "      border-radius: 50%;\n",
              "      cursor: pointer;\n",
              "      display: none;\n",
              "      fill: #1967D2;\n",
              "      height: 32px;\n",
              "      padding: 0 0 0 0;\n",
              "      width: 32px;\n",
              "    }\n",
              "\n",
              "    .colab-df-convert:hover {\n",
              "      background-color: #E2EBFA;\n",
              "      box-shadow: 0px 1px 2px rgba(60, 64, 67, 0.3), 0px 1px 3px 1px rgba(60, 64, 67, 0.15);\n",
              "      fill: #174EA6;\n",
              "    }\n",
              "\n",
              "    [theme=dark] .colab-df-convert {\n",
              "      background-color: #3B4455;\n",
              "      fill: #D2E3FC;\n",
              "    }\n",
              "\n",
              "    [theme=dark] .colab-df-convert:hover {\n",
              "      background-color: #434B5C;\n",
              "      box-shadow: 0px 1px 3px 1px rgba(0, 0, 0, 0.15);\n",
              "      filter: drop-shadow(0px 1px 2px rgba(0, 0, 0, 0.3));\n",
              "      fill: #FFFFFF;\n",
              "    }\n",
              "  </style>\n",
              "\n",
              "      <script>\n",
              "        const buttonEl =\n",
              "          document.querySelector('#df-c9e61f8d-8a9a-42f7-ae03-9747a16e20d8 button.colab-df-convert');\n",
              "        buttonEl.style.display =\n",
              "          google.colab.kernel.accessAllowed ? 'block' : 'none';\n",
              "\n",
              "        async function convertToInteractive(key) {\n",
              "          const element = document.querySelector('#df-c9e61f8d-8a9a-42f7-ae03-9747a16e20d8');\n",
              "          const dataTable =\n",
              "            await google.colab.kernel.invokeFunction('convertToInteractive',\n",
              "                                                     [key], {});\n",
              "          if (!dataTable) return;\n",
              "\n",
              "          const docLinkHtml = 'Like what you see? Visit the ' +\n",
              "            '<a target=\"_blank\" href=https://colab.research.google.com/notebooks/data_table.ipynb>data table notebook</a>'\n",
              "            + ' to learn more about interactive tables.';\n",
              "          element.innerHTML = '';\n",
              "          dataTable['output_type'] = 'display_data';\n",
              "          await google.colab.output.renderOutput(dataTable, element);\n",
              "          const docLink = document.createElement('div');\n",
              "          docLink.innerHTML = docLinkHtml;\n",
              "          element.appendChild(docLink);\n",
              "        }\n",
              "      </script>\n",
              "    </div>\n",
              "  </div>\n",
              "  "
            ]
          },
          "metadata": {},
          "execution_count": 14
        }
      ]
    },
    {
      "cell_type": "markdown",
      "metadata": {
        "id": "EuM49yvVWCHx"
      },
      "source": [
        "#### Dados de Desafio: _clients.challenge.csv_\n",
        "\n",
        "Os **dados de desafio** estão [neste arquivo](https://drive.google.com/uc?id=1JBo7SlIuzmkQgRg9VytkNgXLhZyKmPJV) do _Google Drive_. Interessante notar que está faltando a coluna `is_churn`, que não será fornecida para esse _dataset_."
      ]
    },
    {
      "cell_type": "code",
      "metadata": {
        "id": "BvOeNIBjW-WN"
      },
      "source": [
        "key = 'client_ch'"
      ],
      "execution_count": 15,
      "outputs": []
    },
    {
      "cell_type": "code",
      "metadata": {
        "colab": {
          "base_uri": "https://localhost:8080/",
          "height": 105
        },
        "id": "9WaWXJxcWCHz",
        "outputId": "ccb21ee7-fac5-4d2a-9f9e-61b5e6673e6c"
      },
      "source": [
        " gdown.download(**FILE_INFO[key], quiet=0)"
      ],
      "execution_count": 16,
      "outputs": [
        {
          "output_type": "stream",
          "name": "stderr",
          "text": [
            "Downloading...\n",
            "From: https://drive.google.com/uc?id=1JBo7SlIuzmkQgRg9VytkNgXLhZyKmPJV\n",
            "To: /content/data/client.challenge.csv\n",
            "100%|██████████| 217k/217k [00:00<00:00, 2.27MB/s]\n"
          ]
        },
        {
          "output_type": "execute_result",
          "data": {
            "text/plain": [
              "'data/client.challenge.csv'"
            ],
            "application/vnd.google.colaboratory.intrinsic+json": {
              "type": "string"
            }
          },
          "metadata": {},
          "execution_count": 16
        }
      ]
    },
    {
      "cell_type": "code",
      "metadata": {
        "colab": {
          "base_uri": "https://localhost:8080/",
          "height": 238
        },
        "id": "Iqgs5HdfWCH1",
        "outputId": "1c3a7629-60d3-47ad-d6dc-69667515b90a"
      },
      "source": [
        "clients_ch = pd.read_csv(\n",
        "    FILE_INFO[key]['output'],\n",
        "    index_col=0, \n",
        "    sep=',', \n",
        "    encoding='utf-8',\n",
        "    parse_dates=['birthdate']\n",
        ")\n",
        "clients_ch.head()"
      ],
      "execution_count": 17,
      "outputs": [
        {
          "output_type": "execute_result",
          "data": {
            "text/plain": [
              "           birthdate state gender\n",
              "client_id                        \n",
              "cx12525   1932-04-19  st15    cg1\n",
              "cx32280   1983-03-01  st15    cg1\n",
              "cx00471   1964-08-30  st15    cg2\n",
              "cx18876   1971-04-27  st15    cg2\n",
              "cx38255   1958-01-26  st15    cg1"
            ],
            "text/html": [
              "\n",
              "  <div id=\"df-4ea3e71f-8816-486b-bbe6-d6760fd83715\">\n",
              "    <div class=\"colab-df-container\">\n",
              "      <div>\n",
              "<style scoped>\n",
              "    .dataframe tbody tr th:only-of-type {\n",
              "        vertical-align: middle;\n",
              "    }\n",
              "\n",
              "    .dataframe tbody tr th {\n",
              "        vertical-align: top;\n",
              "    }\n",
              "\n",
              "    .dataframe thead th {\n",
              "        text-align: right;\n",
              "    }\n",
              "</style>\n",
              "<table border=\"1\" class=\"dataframe\">\n",
              "  <thead>\n",
              "    <tr style=\"text-align: right;\">\n",
              "      <th></th>\n",
              "      <th>birthdate</th>\n",
              "      <th>state</th>\n",
              "      <th>gender</th>\n",
              "    </tr>\n",
              "    <tr>\n",
              "      <th>client_id</th>\n",
              "      <th></th>\n",
              "      <th></th>\n",
              "      <th></th>\n",
              "    </tr>\n",
              "  </thead>\n",
              "  <tbody>\n",
              "    <tr>\n",
              "      <th>cx12525</th>\n",
              "      <td>1932-04-19</td>\n",
              "      <td>st15</td>\n",
              "      <td>cg1</td>\n",
              "    </tr>\n",
              "    <tr>\n",
              "      <th>cx32280</th>\n",
              "      <td>1983-03-01</td>\n",
              "      <td>st15</td>\n",
              "      <td>cg1</td>\n",
              "    </tr>\n",
              "    <tr>\n",
              "      <th>cx00471</th>\n",
              "      <td>1964-08-30</td>\n",
              "      <td>st15</td>\n",
              "      <td>cg2</td>\n",
              "    </tr>\n",
              "    <tr>\n",
              "      <th>cx18876</th>\n",
              "      <td>1971-04-27</td>\n",
              "      <td>st15</td>\n",
              "      <td>cg2</td>\n",
              "    </tr>\n",
              "    <tr>\n",
              "      <th>cx38255</th>\n",
              "      <td>1958-01-26</td>\n",
              "      <td>st15</td>\n",
              "      <td>cg1</td>\n",
              "    </tr>\n",
              "  </tbody>\n",
              "</table>\n",
              "</div>\n",
              "      <button class=\"colab-df-convert\" onclick=\"convertToInteractive('df-4ea3e71f-8816-486b-bbe6-d6760fd83715')\"\n",
              "              title=\"Convert this dataframe to an interactive table.\"\n",
              "              style=\"display:none;\">\n",
              "        \n",
              "  <svg xmlns=\"http://www.w3.org/2000/svg\" height=\"24px\"viewBox=\"0 0 24 24\"\n",
              "       width=\"24px\">\n",
              "    <path d=\"M0 0h24v24H0V0z\" fill=\"none\"/>\n",
              "    <path d=\"M18.56 5.44l.94 2.06.94-2.06 2.06-.94-2.06-.94-.94-2.06-.94 2.06-2.06.94zm-11 1L8.5 8.5l.94-2.06 2.06-.94-2.06-.94L8.5 2.5l-.94 2.06-2.06.94zm10 10l.94 2.06.94-2.06 2.06-.94-2.06-.94-.94-2.06-.94 2.06-2.06.94z\"/><path d=\"M17.41 7.96l-1.37-1.37c-.4-.4-.92-.59-1.43-.59-.52 0-1.04.2-1.43.59L10.3 9.45l-7.72 7.72c-.78.78-.78 2.05 0 2.83L4 21.41c.39.39.9.59 1.41.59.51 0 1.02-.2 1.41-.59l7.78-7.78 2.81-2.81c.8-.78.8-2.07 0-2.86zM5.41 20L4 18.59l7.72-7.72 1.47 1.35L5.41 20z\"/>\n",
              "  </svg>\n",
              "      </button>\n",
              "      \n",
              "  <style>\n",
              "    .colab-df-container {\n",
              "      display:flex;\n",
              "      flex-wrap:wrap;\n",
              "      gap: 12px;\n",
              "    }\n",
              "\n",
              "    .colab-df-convert {\n",
              "      background-color: #E8F0FE;\n",
              "      border: none;\n",
              "      border-radius: 50%;\n",
              "      cursor: pointer;\n",
              "      display: none;\n",
              "      fill: #1967D2;\n",
              "      height: 32px;\n",
              "      padding: 0 0 0 0;\n",
              "      width: 32px;\n",
              "    }\n",
              "\n",
              "    .colab-df-convert:hover {\n",
              "      background-color: #E2EBFA;\n",
              "      box-shadow: 0px 1px 2px rgba(60, 64, 67, 0.3), 0px 1px 3px 1px rgba(60, 64, 67, 0.15);\n",
              "      fill: #174EA6;\n",
              "    }\n",
              "\n",
              "    [theme=dark] .colab-df-convert {\n",
              "      background-color: #3B4455;\n",
              "      fill: #D2E3FC;\n",
              "    }\n",
              "\n",
              "    [theme=dark] .colab-df-convert:hover {\n",
              "      background-color: #434B5C;\n",
              "      box-shadow: 0px 1px 3px 1px rgba(0, 0, 0, 0.15);\n",
              "      filter: drop-shadow(0px 1px 2px rgba(0, 0, 0, 0.3));\n",
              "      fill: #FFFFFF;\n",
              "    }\n",
              "  </style>\n",
              "\n",
              "      <script>\n",
              "        const buttonEl =\n",
              "          document.querySelector('#df-4ea3e71f-8816-486b-bbe6-d6760fd83715 button.colab-df-convert');\n",
              "        buttonEl.style.display =\n",
              "          google.colab.kernel.accessAllowed ? 'block' : 'none';\n",
              "\n",
              "        async function convertToInteractive(key) {\n",
              "          const element = document.querySelector('#df-4ea3e71f-8816-486b-bbe6-d6760fd83715');\n",
              "          const dataTable =\n",
              "            await google.colab.kernel.invokeFunction('convertToInteractive',\n",
              "                                                     [key], {});\n",
              "          if (!dataTable) return;\n",
              "\n",
              "          const docLinkHtml = 'Like what you see? Visit the ' +\n",
              "            '<a target=\"_blank\" href=https://colab.research.google.com/notebooks/data_table.ipynb>data table notebook</a>'\n",
              "            + ' to learn more about interactive tables.';\n",
              "          element.innerHTML = '';\n",
              "          dataTable['output_type'] = 'display_data';\n",
              "          await google.colab.output.renderOutput(dataTable, element);\n",
              "          const docLink = document.createElement('div');\n",
              "          docLink.innerHTML = docLinkHtml;\n",
              "          element.appendChild(docLink);\n",
              "        }\n",
              "      </script>\n",
              "    </div>\n",
              "  </div>\n",
              "  "
            ]
          },
          "metadata": {},
          "execution_count": 17
        }
      ]
    },
    {
      "cell_type": "markdown",
      "metadata": {
        "id": "7RNcPdIDs0sr"
      },
      "source": [
        "### Dados de Produtos\n",
        "\n",
        "Os **dados de produto** estão [neste arquivo](https://drive.google.com/uc?id=1wU65H2mwrdd8BhVM8hITCB9sfRVNHFwQ) do _Google Drive_."
      ]
    },
    {
      "cell_type": "code",
      "metadata": {
        "id": "gjIWs30OXNRP"
      },
      "source": [
        "key = 'product'"
      ],
      "execution_count": 18,
      "outputs": []
    },
    {
      "cell_type": "code",
      "metadata": {
        "colab": {
          "base_uri": "https://localhost:8080/",
          "height": 105
        },
        "id": "cgd5YFwRXNRQ",
        "outputId": "3726d3d3-8c2e-460c-c23e-1c77ec276d4a"
      },
      "source": [
        " gdown.download(**FILE_INFO[key], quiet=0)"
      ],
      "execution_count": 19,
      "outputs": [
        {
          "output_type": "stream",
          "name": "stderr",
          "text": [
            "Downloading...\n",
            "From: https://drive.google.com/uc?id=1wU65H2mwrdd8BhVM8hITCB9sfRVNHFwQ\n",
            "To: /content/data/product.csv\n",
            "100%|██████████| 950k/950k [00:00<00:00, 6.51MB/s]\n"
          ]
        },
        {
          "output_type": "execute_result",
          "data": {
            "text/plain": [
              "'data/product.csv'"
            ],
            "application/vnd.google.colaboratory.intrinsic+json": {
              "type": "string"
            }
          },
          "metadata": {},
          "execution_count": 19
        }
      ]
    },
    {
      "cell_type": "code",
      "metadata": {
        "colab": {
          "base_uri": "https://localhost:8080/",
          "height": 238
        },
        "id": "pKAHyPpeXNRS",
        "outputId": "11fc46e9-af18-498f-a5d8-ba3d356931b1"
      },
      "source": [
        "product = pd.read_csv(\n",
        "    FILE_INFO[key]['output'],\n",
        "    index_col=0, \n",
        "    sep=',', \n",
        "    encoding='utf-8'\n",
        ")\n",
        "product.head()"
      ],
      "execution_count": 20,
      "outputs": [
        {
          "output_type": "execute_result",
          "data": {
            "text/plain": [
              "           category_lv0 category_lv1  category_lv2      category_lv3  \\\n",
              "product_id                                                             \n",
              "px01237            mk38     mk38:072  mk38:072:149  mk38:072:149:218   \n",
              "px11510            mk38     mk38:072  mk38:072:149  mk38:072:149:218   \n",
              "px03782            mk38     mk38:072  mk38:072:019  mk38:072:019:066   \n",
              "px04092            mk38     mk38:072  mk38:072:019  mk38:072:019:054   \n",
              "px07429            mk38     mk38:072  mk38:072:078  mk38:072:078:182   \n",
              "\n",
              "                      category_lv4  \n",
              "product_id                          \n",
              "px01237     mk38:072:149:218:04846  \n",
              "px11510     mk38:072:149:218:01337  \n",
              "px03782     mk38:072:019:066:02321  \n",
              "px04092     mk38:072:019:054:06035  \n",
              "px07429     mk38:072:078:182:07218  "
            ],
            "text/html": [
              "\n",
              "  <div id=\"df-b3ea7c22-9d96-4e4d-8607-26f109aefc1a\">\n",
              "    <div class=\"colab-df-container\">\n",
              "      <div>\n",
              "<style scoped>\n",
              "    .dataframe tbody tr th:only-of-type {\n",
              "        vertical-align: middle;\n",
              "    }\n",
              "\n",
              "    .dataframe tbody tr th {\n",
              "        vertical-align: top;\n",
              "    }\n",
              "\n",
              "    .dataframe thead th {\n",
              "        text-align: right;\n",
              "    }\n",
              "</style>\n",
              "<table border=\"1\" class=\"dataframe\">\n",
              "  <thead>\n",
              "    <tr style=\"text-align: right;\">\n",
              "      <th></th>\n",
              "      <th>category_lv0</th>\n",
              "      <th>category_lv1</th>\n",
              "      <th>category_lv2</th>\n",
              "      <th>category_lv3</th>\n",
              "      <th>category_lv4</th>\n",
              "    </tr>\n",
              "    <tr>\n",
              "      <th>product_id</th>\n",
              "      <th></th>\n",
              "      <th></th>\n",
              "      <th></th>\n",
              "      <th></th>\n",
              "      <th></th>\n",
              "    </tr>\n",
              "  </thead>\n",
              "  <tbody>\n",
              "    <tr>\n",
              "      <th>px01237</th>\n",
              "      <td>mk38</td>\n",
              "      <td>mk38:072</td>\n",
              "      <td>mk38:072:149</td>\n",
              "      <td>mk38:072:149:218</td>\n",
              "      <td>mk38:072:149:218:04846</td>\n",
              "    </tr>\n",
              "    <tr>\n",
              "      <th>px11510</th>\n",
              "      <td>mk38</td>\n",
              "      <td>mk38:072</td>\n",
              "      <td>mk38:072:149</td>\n",
              "      <td>mk38:072:149:218</td>\n",
              "      <td>mk38:072:149:218:01337</td>\n",
              "    </tr>\n",
              "    <tr>\n",
              "      <th>px03782</th>\n",
              "      <td>mk38</td>\n",
              "      <td>mk38:072</td>\n",
              "      <td>mk38:072:019</td>\n",
              "      <td>mk38:072:019:066</td>\n",
              "      <td>mk38:072:019:066:02321</td>\n",
              "    </tr>\n",
              "    <tr>\n",
              "      <th>px04092</th>\n",
              "      <td>mk38</td>\n",
              "      <td>mk38:072</td>\n",
              "      <td>mk38:072:019</td>\n",
              "      <td>mk38:072:019:054</td>\n",
              "      <td>mk38:072:019:054:06035</td>\n",
              "    </tr>\n",
              "    <tr>\n",
              "      <th>px07429</th>\n",
              "      <td>mk38</td>\n",
              "      <td>mk38:072</td>\n",
              "      <td>mk38:072:078</td>\n",
              "      <td>mk38:072:078:182</td>\n",
              "      <td>mk38:072:078:182:07218</td>\n",
              "    </tr>\n",
              "  </tbody>\n",
              "</table>\n",
              "</div>\n",
              "      <button class=\"colab-df-convert\" onclick=\"convertToInteractive('df-b3ea7c22-9d96-4e4d-8607-26f109aefc1a')\"\n",
              "              title=\"Convert this dataframe to an interactive table.\"\n",
              "              style=\"display:none;\">\n",
              "        \n",
              "  <svg xmlns=\"http://www.w3.org/2000/svg\" height=\"24px\"viewBox=\"0 0 24 24\"\n",
              "       width=\"24px\">\n",
              "    <path d=\"M0 0h24v24H0V0z\" fill=\"none\"/>\n",
              "    <path d=\"M18.56 5.44l.94 2.06.94-2.06 2.06-.94-2.06-.94-.94-2.06-.94 2.06-2.06.94zm-11 1L8.5 8.5l.94-2.06 2.06-.94-2.06-.94L8.5 2.5l-.94 2.06-2.06.94zm10 10l.94 2.06.94-2.06 2.06-.94-2.06-.94-.94-2.06-.94 2.06-2.06.94z\"/><path d=\"M17.41 7.96l-1.37-1.37c-.4-.4-.92-.59-1.43-.59-.52 0-1.04.2-1.43.59L10.3 9.45l-7.72 7.72c-.78.78-.78 2.05 0 2.83L4 21.41c.39.39.9.59 1.41.59.51 0 1.02-.2 1.41-.59l7.78-7.78 2.81-2.81c.8-.78.8-2.07 0-2.86zM5.41 20L4 18.59l7.72-7.72 1.47 1.35L5.41 20z\"/>\n",
              "  </svg>\n",
              "      </button>\n",
              "      \n",
              "  <style>\n",
              "    .colab-df-container {\n",
              "      display:flex;\n",
              "      flex-wrap:wrap;\n",
              "      gap: 12px;\n",
              "    }\n",
              "\n",
              "    .colab-df-convert {\n",
              "      background-color: #E8F0FE;\n",
              "      border: none;\n",
              "      border-radius: 50%;\n",
              "      cursor: pointer;\n",
              "      display: none;\n",
              "      fill: #1967D2;\n",
              "      height: 32px;\n",
              "      padding: 0 0 0 0;\n",
              "      width: 32px;\n",
              "    }\n",
              "\n",
              "    .colab-df-convert:hover {\n",
              "      background-color: #E2EBFA;\n",
              "      box-shadow: 0px 1px 2px rgba(60, 64, 67, 0.3), 0px 1px 3px 1px rgba(60, 64, 67, 0.15);\n",
              "      fill: #174EA6;\n",
              "    }\n",
              "\n",
              "    [theme=dark] .colab-df-convert {\n",
              "      background-color: #3B4455;\n",
              "      fill: #D2E3FC;\n",
              "    }\n",
              "\n",
              "    [theme=dark] .colab-df-convert:hover {\n",
              "      background-color: #434B5C;\n",
              "      box-shadow: 0px 1px 3px 1px rgba(0, 0, 0, 0.15);\n",
              "      filter: drop-shadow(0px 1px 2px rgba(0, 0, 0, 0.3));\n",
              "      fill: #FFFFFF;\n",
              "    }\n",
              "  </style>\n",
              "\n",
              "      <script>\n",
              "        const buttonEl =\n",
              "          document.querySelector('#df-b3ea7c22-9d96-4e4d-8607-26f109aefc1a button.colab-df-convert');\n",
              "        buttonEl.style.display =\n",
              "          google.colab.kernel.accessAllowed ? 'block' : 'none';\n",
              "\n",
              "        async function convertToInteractive(key) {\n",
              "          const element = document.querySelector('#df-b3ea7c22-9d96-4e4d-8607-26f109aefc1a');\n",
              "          const dataTable =\n",
              "            await google.colab.kernel.invokeFunction('convertToInteractive',\n",
              "                                                     [key], {});\n",
              "          if (!dataTable) return;\n",
              "\n",
              "          const docLinkHtml = 'Like what you see? Visit the ' +\n",
              "            '<a target=\"_blank\" href=https://colab.research.google.com/notebooks/data_table.ipynb>data table notebook</a>'\n",
              "            + ' to learn more about interactive tables.';\n",
              "          element.innerHTML = '';\n",
              "          dataTable['output_type'] = 'display_data';\n",
              "          await google.colab.output.renderOutput(dataTable, element);\n",
              "          const docLink = document.createElement('div');\n",
              "          docLink.innerHTML = docLinkHtml;\n",
              "          element.appendChild(docLink);\n",
              "        }\n",
              "      </script>\n",
              "    </div>\n",
              "  </div>\n",
              "  "
            ]
          },
          "metadata": {},
          "execution_count": 20
        }
      ]
    },
    {
      "cell_type": "markdown",
      "metadata": {
        "id": "2xqIPxR7XiQk"
      },
      "source": [
        "As colunas da Tabela de Produtos são todas simbólicas, representando as diferentes categorias da **árvore de Estrutura Mercadológica** onde o produto está inserido. \n",
        "\n",
        "Os nomes das subcategorias herdam o nome da categoria pai, de forma que todas as subcategorias da coluna `category_lv2` que começam com \"mk38:072\" possuem como categoria pai a `category_lv1` de nome \"mk38:072\", que por sua vez é filho da `category_lv0` de nome \"mk38\".\n",
        "\n",
        "Um exemplo da categorização:\n",
        "\n",
        "- `category_lv0`: Categorias mais abrangentes dos produtos; e.g. \"Eletrônicos\" ou \"Moda\"\n",
        "- `category_lv1`: Subcategorias; e.g. \"Eletrônicos->Notebooks\"\n",
        "- `category_lv2`: Sub-subcategorias; e.g. \"Eletrônicos->Notebooks->UltraFinos\"\n",
        "\n",
        "e assim por diante.\n",
        "\n",
        "A coluna `product_id` é a referência global de produtos, que pode ser combinada por _merge_ com a tabela de vendas."
      ]
    },
    {
      "cell_type": "markdown",
      "metadata": {
        "id": "Uin5KPchs0vW"
      },
      "source": [
        "### Histórico de Vendas\n",
        "\n",
        "Os **dados do histórico de todas as vendas** de 2019 para **todos os clientes** nos 3 datasets de cliente que compraram qualquer produto - todos contidos no dataset de produtos - estão [neste arquivo](https://drive.google.com/uc?id=1sk7p66kMAu4ZfAUmYVH0YF-cx2kHd4UZ) do _Google Drive_."
      ]
    },
    {
      "cell_type": "code",
      "metadata": {
        "id": "2G7AXotTXOJx"
      },
      "source": [
        "key = 'orders'"
      ],
      "execution_count": 21,
      "outputs": []
    },
    {
      "cell_type": "code",
      "metadata": {
        "colab": {
          "base_uri": "https://localhost:8080/",
          "height": 105
        },
        "id": "GXb8A48AXOJy",
        "outputId": "4b15a732-a66e-40d6-814f-acdd45b34cbd"
      },
      "source": [
        " gdown.download(**FILE_INFO[key], quiet=0)"
      ],
      "execution_count": 22,
      "outputs": [
        {
          "output_type": "stream",
          "name": "stderr",
          "text": [
            "Downloading...\n",
            "From: https://drive.google.com/uc?id=1sk7p66kMAu4ZfAUmYVH0YF-cx2kHd4UZ\n",
            "To: /content/data/orders.csv\n",
            "100%|██████████| 13.3M/13.3M [00:00<00:00, 50.1MB/s]\n"
          ]
        },
        {
          "output_type": "execute_result",
          "data": {
            "text/plain": [
              "'data/orders.csv'"
            ],
            "application/vnd.google.colaboratory.intrinsic+json": {
              "type": "string"
            }
          },
          "metadata": {},
          "execution_count": 22
        }
      ]
    },
    {
      "cell_type": "code",
      "metadata": {
        "colab": {
          "base_uri": "https://localhost:8080/",
          "height": 238
        },
        "id": "gDpQIlO3XOJy",
        "outputId": "f16de59a-81a4-4622-89e3-1532ce2e960f"
      },
      "source": [
        "orders = pd.read_csv(\n",
        "    FILE_INFO[key]['output'],\n",
        "    index_col=0, \n",
        "    sep=',', \n",
        "    encoding='utf-8',\n",
        "    parse_dates=['datetime']\n",
        ")\n",
        "orders.head()"
      ],
      "execution_count": 23,
      "outputs": [
        {
          "output_type": "execute_result",
          "data": {
            "text/plain": [
              "         client_id product_id            datetime  units  price  \\\n",
              "order_id                                                          \n",
              "ox008433   cx05072    px04611 2019-10-07 15:20:00    1.0   49.9   \n",
              "ox070389   cx05072    px12305 2019-10-11 17:42:00    1.0   69.9   \n",
              "ox061137   cx06840    px07033 2019-01-19 13:09:00    1.0   35.9   \n",
              "ox061137   cx06840    px05992 2019-01-19 13:09:00    3.0   35.9   \n",
              "ox038612   cx06840    px10040 2019-04-18 14:36:00    1.0   39.0   \n",
              "\n",
              "         payment_method  installments  delivery_days delivery_state device  \\\n",
              "order_id                                                                     \n",
              "ox008433           pm05           NaN            NaN           st07    dv9   \n",
              "ox070389           pm05           NaN            NaN           st07    dv9   \n",
              "ox061137           pm05           NaN            NaN           st07    dv9   \n",
              "ox061137           pm05           NaN            NaN           st07    dv9   \n",
              "ox038612           pm05           NaN            NaN           st07    dv9   \n",
              "\n",
              "         source  \n",
              "order_id         \n",
              "ox008433   sc08  \n",
              "ox070389   sc08  \n",
              "ox061137   sc08  \n",
              "ox061137   sc08  \n",
              "ox038612   sc08  "
            ],
            "text/html": [
              "\n",
              "  <div id=\"df-1101883a-088f-478d-bd57-14c6464eddd2\">\n",
              "    <div class=\"colab-df-container\">\n",
              "      <div>\n",
              "<style scoped>\n",
              "    .dataframe tbody tr th:only-of-type {\n",
              "        vertical-align: middle;\n",
              "    }\n",
              "\n",
              "    .dataframe tbody tr th {\n",
              "        vertical-align: top;\n",
              "    }\n",
              "\n",
              "    .dataframe thead th {\n",
              "        text-align: right;\n",
              "    }\n",
              "</style>\n",
              "<table border=\"1\" class=\"dataframe\">\n",
              "  <thead>\n",
              "    <tr style=\"text-align: right;\">\n",
              "      <th></th>\n",
              "      <th>client_id</th>\n",
              "      <th>product_id</th>\n",
              "      <th>datetime</th>\n",
              "      <th>units</th>\n",
              "      <th>price</th>\n",
              "      <th>payment_method</th>\n",
              "      <th>installments</th>\n",
              "      <th>delivery_days</th>\n",
              "      <th>delivery_state</th>\n",
              "      <th>device</th>\n",
              "      <th>source</th>\n",
              "    </tr>\n",
              "    <tr>\n",
              "      <th>order_id</th>\n",
              "      <th></th>\n",
              "      <th></th>\n",
              "      <th></th>\n",
              "      <th></th>\n",
              "      <th></th>\n",
              "      <th></th>\n",
              "      <th></th>\n",
              "      <th></th>\n",
              "      <th></th>\n",
              "      <th></th>\n",
              "      <th></th>\n",
              "    </tr>\n",
              "  </thead>\n",
              "  <tbody>\n",
              "    <tr>\n",
              "      <th>ox008433</th>\n",
              "      <td>cx05072</td>\n",
              "      <td>px04611</td>\n",
              "      <td>2019-10-07 15:20:00</td>\n",
              "      <td>1.0</td>\n",
              "      <td>49.9</td>\n",
              "      <td>pm05</td>\n",
              "      <td>NaN</td>\n",
              "      <td>NaN</td>\n",
              "      <td>st07</td>\n",
              "      <td>dv9</td>\n",
              "      <td>sc08</td>\n",
              "    </tr>\n",
              "    <tr>\n",
              "      <th>ox070389</th>\n",
              "      <td>cx05072</td>\n",
              "      <td>px12305</td>\n",
              "      <td>2019-10-11 17:42:00</td>\n",
              "      <td>1.0</td>\n",
              "      <td>69.9</td>\n",
              "      <td>pm05</td>\n",
              "      <td>NaN</td>\n",
              "      <td>NaN</td>\n",
              "      <td>st07</td>\n",
              "      <td>dv9</td>\n",
              "      <td>sc08</td>\n",
              "    </tr>\n",
              "    <tr>\n",
              "      <th>ox061137</th>\n",
              "      <td>cx06840</td>\n",
              "      <td>px07033</td>\n",
              "      <td>2019-01-19 13:09:00</td>\n",
              "      <td>1.0</td>\n",
              "      <td>35.9</td>\n",
              "      <td>pm05</td>\n",
              "      <td>NaN</td>\n",
              "      <td>NaN</td>\n",
              "      <td>st07</td>\n",
              "      <td>dv9</td>\n",
              "      <td>sc08</td>\n",
              "    </tr>\n",
              "    <tr>\n",
              "      <th>ox061137</th>\n",
              "      <td>cx06840</td>\n",
              "      <td>px05992</td>\n",
              "      <td>2019-01-19 13:09:00</td>\n",
              "      <td>3.0</td>\n",
              "      <td>35.9</td>\n",
              "      <td>pm05</td>\n",
              "      <td>NaN</td>\n",
              "      <td>NaN</td>\n",
              "      <td>st07</td>\n",
              "      <td>dv9</td>\n",
              "      <td>sc08</td>\n",
              "    </tr>\n",
              "    <tr>\n",
              "      <th>ox038612</th>\n",
              "      <td>cx06840</td>\n",
              "      <td>px10040</td>\n",
              "      <td>2019-04-18 14:36:00</td>\n",
              "      <td>1.0</td>\n",
              "      <td>39.0</td>\n",
              "      <td>pm05</td>\n",
              "      <td>NaN</td>\n",
              "      <td>NaN</td>\n",
              "      <td>st07</td>\n",
              "      <td>dv9</td>\n",
              "      <td>sc08</td>\n",
              "    </tr>\n",
              "  </tbody>\n",
              "</table>\n",
              "</div>\n",
              "      <button class=\"colab-df-convert\" onclick=\"convertToInteractive('df-1101883a-088f-478d-bd57-14c6464eddd2')\"\n",
              "              title=\"Convert this dataframe to an interactive table.\"\n",
              "              style=\"display:none;\">\n",
              "        \n",
              "  <svg xmlns=\"http://www.w3.org/2000/svg\" height=\"24px\"viewBox=\"0 0 24 24\"\n",
              "       width=\"24px\">\n",
              "    <path d=\"M0 0h24v24H0V0z\" fill=\"none\"/>\n",
              "    <path d=\"M18.56 5.44l.94 2.06.94-2.06 2.06-.94-2.06-.94-.94-2.06-.94 2.06-2.06.94zm-11 1L8.5 8.5l.94-2.06 2.06-.94-2.06-.94L8.5 2.5l-.94 2.06-2.06.94zm10 10l.94 2.06.94-2.06 2.06-.94-2.06-.94-.94-2.06-.94 2.06-2.06.94z\"/><path d=\"M17.41 7.96l-1.37-1.37c-.4-.4-.92-.59-1.43-.59-.52 0-1.04.2-1.43.59L10.3 9.45l-7.72 7.72c-.78.78-.78 2.05 0 2.83L4 21.41c.39.39.9.59 1.41.59.51 0 1.02-.2 1.41-.59l7.78-7.78 2.81-2.81c.8-.78.8-2.07 0-2.86zM5.41 20L4 18.59l7.72-7.72 1.47 1.35L5.41 20z\"/>\n",
              "  </svg>\n",
              "      </button>\n",
              "      \n",
              "  <style>\n",
              "    .colab-df-container {\n",
              "      display:flex;\n",
              "      flex-wrap:wrap;\n",
              "      gap: 12px;\n",
              "    }\n",
              "\n",
              "    .colab-df-convert {\n",
              "      background-color: #E8F0FE;\n",
              "      border: none;\n",
              "      border-radius: 50%;\n",
              "      cursor: pointer;\n",
              "      display: none;\n",
              "      fill: #1967D2;\n",
              "      height: 32px;\n",
              "      padding: 0 0 0 0;\n",
              "      width: 32px;\n",
              "    }\n",
              "\n",
              "    .colab-df-convert:hover {\n",
              "      background-color: #E2EBFA;\n",
              "      box-shadow: 0px 1px 2px rgba(60, 64, 67, 0.3), 0px 1px 3px 1px rgba(60, 64, 67, 0.15);\n",
              "      fill: #174EA6;\n",
              "    }\n",
              "\n",
              "    [theme=dark] .colab-df-convert {\n",
              "      background-color: #3B4455;\n",
              "      fill: #D2E3FC;\n",
              "    }\n",
              "\n",
              "    [theme=dark] .colab-df-convert:hover {\n",
              "      background-color: #434B5C;\n",
              "      box-shadow: 0px 1px 3px 1px rgba(0, 0, 0, 0.15);\n",
              "      filter: drop-shadow(0px 1px 2px rgba(0, 0, 0, 0.3));\n",
              "      fill: #FFFFFF;\n",
              "    }\n",
              "  </style>\n",
              "\n",
              "      <script>\n",
              "        const buttonEl =\n",
              "          document.querySelector('#df-1101883a-088f-478d-bd57-14c6464eddd2 button.colab-df-convert');\n",
              "        buttonEl.style.display =\n",
              "          google.colab.kernel.accessAllowed ? 'block' : 'none';\n",
              "\n",
              "        async function convertToInteractive(key) {\n",
              "          const element = document.querySelector('#df-1101883a-088f-478d-bd57-14c6464eddd2');\n",
              "          const dataTable =\n",
              "            await google.colab.kernel.invokeFunction('convertToInteractive',\n",
              "                                                     [key], {});\n",
              "          if (!dataTable) return;\n",
              "\n",
              "          const docLinkHtml = 'Like what you see? Visit the ' +\n",
              "            '<a target=\"_blank\" href=https://colab.research.google.com/notebooks/data_table.ipynb>data table notebook</a>'\n",
              "            + ' to learn more about interactive tables.';\n",
              "          element.innerHTML = '';\n",
              "          dataTable['output_type'] = 'display_data';\n",
              "          await google.colab.output.renderOutput(dataTable, element);\n",
              "          const docLink = document.createElement('div');\n",
              "          docLink.innerHTML = docLinkHtml;\n",
              "          element.appendChild(docLink);\n",
              "        }\n",
              "      </script>\n",
              "    </div>\n",
              "  </div>\n",
              "  "
            ]
          },
          "metadata": {},
          "execution_count": 23
        }
      ]
    },
    {
      "cell_type": "markdown",
      "metadata": {
        "id": "CjONM9YbbzOk"
      },
      "source": [
        "As colunas dessa tabela estão descritas a seguir.\n",
        "\n",
        "As colunas de ID de entidade são:\n",
        "- `order_id`: identificador da venda; pode estar repetida em outras linhas, pois **cada linha corresponde à compra de um produto por um cliente**, que pode ter comprado outros produtos no mesmo evento.\n",
        "- `client_id`: identificador do cliente que realizou a compra\n",
        "- `datetime`: data e hora da compra\n",
        "- `units`: quantidade de unidades do produto que foram comprados nesse evento de compra\n",
        "- `price`: preço unitário do produto comprado\n",
        "- `payment_method`: forma de pagamento (crétido, débito, _voucher_, etc) da compra\n",
        "- `installments`: número de parcelas do pagamento; se estiver vazio, pode-se considerar que não se aplica\n",
        "- `delivery_days`: prazo de entrega do produto\n",
        "- `delivery_state`: estado onde ocorreu a entrega do produto; corresponde exatamente ao estado nas tabelas de cliente\n",
        "- `device`: meio por onde  o cliente comprou; e.g. site, aplicativo do celular, terminal de compras\n",
        "- `source`: canal de _marketing_ que gerou o _lead_ e ocasionou ao cliente comprar; por exemplo, pode ser um link em uma página parceira onde o cliente viu uma promoção"
      ]
    },
    {
      "cell_type": "markdown",
      "metadata": {
        "id": "RSAjInq1vKry"
      },
      "source": [
        "# Roteiro Sugerido\n",
        "\n",
        "As etapas a seguir são a sugestão de passos mínima para a solução do problema de forma estruturada. Em alguns passos serão dadas algumas sugestões de código para o melhor aproveitamento do esforço de exploração e construção de solução.\n",
        "\n",
        "A idéia não é engessar a abordagem, mas apenas criar uma trilha minimamente estruturada para que seja fácil rastrear os passos da solução. O passo inicial será sempre a **análise exploratória** para entender os dados brutos, seguido por um ajuste dos elementos do dataset baseada nas descobertas em uma etapa de **limpeza e pré-processamento** dos dados."
      ]
    },
    {
      "cell_type": "markdown",
      "metadata": {
        "id": "2NGDiJFIre01"
      },
      "source": [
        "## Análise Exploratória Inicial\n",
        "\n",
        "O primeiro passo **sempre** deve ser uma boa EDA (ou análise exploratória). Deve-se entender em cada tabela fornecida a distribuição dos dados de cada coluna, o seu tipo e as correlações (no caso de _features_ numéricas) e co-ocorrências (para _features_ categóricas). Sempre é muito importante tentar entender a relação de todas as _features_ disponíveis com a **variável dependente** ou _target_ (no caso, `is_churn`, para entender se há variáveis que já explicam bem o comportamento da saída **antes mesmo de modelar** uma solução.\n",
        "\n",
        "Sugestão para começar: pegar a tabela de **dados de cliente de treino** `client_tr` e fazer uma exploração das colunas de lá. Depois, buscar fazer uma análise exploratória nas **compras realizadas por esses clientes**, buscando perceber se há alguma relação interessante de comportamento do cliente. Por exemplo, pode-se verificar se o cliente sempre compra produtos para **entregar no mesmo estado em que ele mora**.\n",
        "\n",
        "Muito importante usar as **técnicas de visualização** como histogramas e tabelas de correlações para ter as idéias certas. Nesses casos, gerar gráficos com as bibliotecas [matplotlib](https://matplotlib.org/) e a [seaborn](https://seaborn.pydata.org/) sempre é muito rico. Quando trabalhar com gráficos, sempre seguir a **regra de ouro**: se um gráfico **não mostra explicitamente o comportamento** que quer observar, a análise por esse gráfico pode não ser interessante, siga adiante para outra visualização.\n",
        "\n",
        "Mais uma sugestão de feramentas: além da biblioteca `pandas`, as bibliotecas `numpy` e `scikit-learn` também possuem muitas ferramentas de análise interessantes."
      ]
    },
    {
      "cell_type": "code",
      "metadata": {
        "id": "idjI5iSykUqa"
      },
      "source": [
        "''' sugestão de imports '''\n",
        "%matplotlib inline\n",
        "import matplotlib.pyplot as plt\n",
        "import seaborn as sns\n",
        "import numpy as np"
      ],
      "execution_count": 24,
      "outputs": []
    },
    {
      "cell_type": "code",
      "metadata": {
        "colab": {
          "base_uri": "https://localhost:8080/",
          "height": 35
        },
        "id": "AYDWPDu3eTj0",
        "outputId": "009d0a42-4d34-4252-e56a-94fc16737e79"
      },
      "source": [
        "''' Espaço reservado para a Solução '''"
      ],
      "execution_count": 25,
      "outputs": [
        {
          "output_type": "execute_result",
          "data": {
            "text/plain": [
              "' Espaço reservado para a Solução '"
            ],
            "application/vnd.google.colaboratory.intrinsic+json": {
              "type": "string"
            }
          },
          "metadata": {},
          "execution_count": 25
        }
      ]
    },
    {
      "cell_type": "markdown",
      "source": [
        "### Exploração da tabela client_tr"
      ],
      "metadata": {
        "id": "6QjvRUtMWeLj"
      }
    },
    {
      "cell_type": "code",
      "source": [
        "clients_tr.describe(include='all')"
      ],
      "metadata": {
        "id": "BoPYXK5hWXR8",
        "outputId": "f7226871-4be7-4354-e613-345cecebb218",
        "colab": {
          "base_uri": "https://localhost:8080/",
          "height": 238
        }
      },
      "execution_count": 26,
      "outputs": [
        {
          "output_type": "execute_result",
          "data": {
            "text/plain": [
              "                  birthdate  state gender is_churn\n",
              "count                 23292  23292  23292    23292\n",
              "unique                13046     27      2        2\n",
              "top     1990-01-01 00:00:00   st15    cg1    False\n",
              "freq                     58   8201  12879    19085\n",
              "first   1900-01-15 00:00:00    NaN    NaN      NaN\n",
              "last    2010-12-31 00:00:00    NaN    NaN      NaN"
            ],
            "text/html": [
              "\n",
              "  <div id=\"df-a141db3f-3518-4f09-adcc-52dcdaf29336\">\n",
              "    <div class=\"colab-df-container\">\n",
              "      <div>\n",
              "<style scoped>\n",
              "    .dataframe tbody tr th:only-of-type {\n",
              "        vertical-align: middle;\n",
              "    }\n",
              "\n",
              "    .dataframe tbody tr th {\n",
              "        vertical-align: top;\n",
              "    }\n",
              "\n",
              "    .dataframe thead th {\n",
              "        text-align: right;\n",
              "    }\n",
              "</style>\n",
              "<table border=\"1\" class=\"dataframe\">\n",
              "  <thead>\n",
              "    <tr style=\"text-align: right;\">\n",
              "      <th></th>\n",
              "      <th>birthdate</th>\n",
              "      <th>state</th>\n",
              "      <th>gender</th>\n",
              "      <th>is_churn</th>\n",
              "    </tr>\n",
              "  </thead>\n",
              "  <tbody>\n",
              "    <tr>\n",
              "      <th>count</th>\n",
              "      <td>23292</td>\n",
              "      <td>23292</td>\n",
              "      <td>23292</td>\n",
              "      <td>23292</td>\n",
              "    </tr>\n",
              "    <tr>\n",
              "      <th>unique</th>\n",
              "      <td>13046</td>\n",
              "      <td>27</td>\n",
              "      <td>2</td>\n",
              "      <td>2</td>\n",
              "    </tr>\n",
              "    <tr>\n",
              "      <th>top</th>\n",
              "      <td>1990-01-01 00:00:00</td>\n",
              "      <td>st15</td>\n",
              "      <td>cg1</td>\n",
              "      <td>False</td>\n",
              "    </tr>\n",
              "    <tr>\n",
              "      <th>freq</th>\n",
              "      <td>58</td>\n",
              "      <td>8201</td>\n",
              "      <td>12879</td>\n",
              "      <td>19085</td>\n",
              "    </tr>\n",
              "    <tr>\n",
              "      <th>first</th>\n",
              "      <td>1900-01-15 00:00:00</td>\n",
              "      <td>NaN</td>\n",
              "      <td>NaN</td>\n",
              "      <td>NaN</td>\n",
              "    </tr>\n",
              "    <tr>\n",
              "      <th>last</th>\n",
              "      <td>2010-12-31 00:00:00</td>\n",
              "      <td>NaN</td>\n",
              "      <td>NaN</td>\n",
              "      <td>NaN</td>\n",
              "    </tr>\n",
              "  </tbody>\n",
              "</table>\n",
              "</div>\n",
              "      <button class=\"colab-df-convert\" onclick=\"convertToInteractive('df-a141db3f-3518-4f09-adcc-52dcdaf29336')\"\n",
              "              title=\"Convert this dataframe to an interactive table.\"\n",
              "              style=\"display:none;\">\n",
              "        \n",
              "  <svg xmlns=\"http://www.w3.org/2000/svg\" height=\"24px\"viewBox=\"0 0 24 24\"\n",
              "       width=\"24px\">\n",
              "    <path d=\"M0 0h24v24H0V0z\" fill=\"none\"/>\n",
              "    <path d=\"M18.56 5.44l.94 2.06.94-2.06 2.06-.94-2.06-.94-.94-2.06-.94 2.06-2.06.94zm-11 1L8.5 8.5l.94-2.06 2.06-.94-2.06-.94L8.5 2.5l-.94 2.06-2.06.94zm10 10l.94 2.06.94-2.06 2.06-.94-2.06-.94-.94-2.06-.94 2.06-2.06.94z\"/><path d=\"M17.41 7.96l-1.37-1.37c-.4-.4-.92-.59-1.43-.59-.52 0-1.04.2-1.43.59L10.3 9.45l-7.72 7.72c-.78.78-.78 2.05 0 2.83L4 21.41c.39.39.9.59 1.41.59.51 0 1.02-.2 1.41-.59l7.78-7.78 2.81-2.81c.8-.78.8-2.07 0-2.86zM5.41 20L4 18.59l7.72-7.72 1.47 1.35L5.41 20z\"/>\n",
              "  </svg>\n",
              "      </button>\n",
              "      \n",
              "  <style>\n",
              "    .colab-df-container {\n",
              "      display:flex;\n",
              "      flex-wrap:wrap;\n",
              "      gap: 12px;\n",
              "    }\n",
              "\n",
              "    .colab-df-convert {\n",
              "      background-color: #E8F0FE;\n",
              "      border: none;\n",
              "      border-radius: 50%;\n",
              "      cursor: pointer;\n",
              "      display: none;\n",
              "      fill: #1967D2;\n",
              "      height: 32px;\n",
              "      padding: 0 0 0 0;\n",
              "      width: 32px;\n",
              "    }\n",
              "\n",
              "    .colab-df-convert:hover {\n",
              "      background-color: #E2EBFA;\n",
              "      box-shadow: 0px 1px 2px rgba(60, 64, 67, 0.3), 0px 1px 3px 1px rgba(60, 64, 67, 0.15);\n",
              "      fill: #174EA6;\n",
              "    }\n",
              "\n",
              "    [theme=dark] .colab-df-convert {\n",
              "      background-color: #3B4455;\n",
              "      fill: #D2E3FC;\n",
              "    }\n",
              "\n",
              "    [theme=dark] .colab-df-convert:hover {\n",
              "      background-color: #434B5C;\n",
              "      box-shadow: 0px 1px 3px 1px rgba(0, 0, 0, 0.15);\n",
              "      filter: drop-shadow(0px 1px 2px rgba(0, 0, 0, 0.3));\n",
              "      fill: #FFFFFF;\n",
              "    }\n",
              "  </style>\n",
              "\n",
              "      <script>\n",
              "        const buttonEl =\n",
              "          document.querySelector('#df-a141db3f-3518-4f09-adcc-52dcdaf29336 button.colab-df-convert');\n",
              "        buttonEl.style.display =\n",
              "          google.colab.kernel.accessAllowed ? 'block' : 'none';\n",
              "\n",
              "        async function convertToInteractive(key) {\n",
              "          const element = document.querySelector('#df-a141db3f-3518-4f09-adcc-52dcdaf29336');\n",
              "          const dataTable =\n",
              "            await google.colab.kernel.invokeFunction('convertToInteractive',\n",
              "                                                     [key], {});\n",
              "          if (!dataTable) return;\n",
              "\n",
              "          const docLinkHtml = 'Like what you see? Visit the ' +\n",
              "            '<a target=\"_blank\" href=https://colab.research.google.com/notebooks/data_table.ipynb>data table notebook</a>'\n",
              "            + ' to learn more about interactive tables.';\n",
              "          element.innerHTML = '';\n",
              "          dataTable['output_type'] = 'display_data';\n",
              "          await google.colab.output.renderOutput(dataTable, element);\n",
              "          const docLink = document.createElement('div');\n",
              "          docLink.innerHTML = docLinkHtml;\n",
              "          element.appendChild(docLink);\n",
              "        }\n",
              "      </script>\n",
              "    </div>\n",
              "  </div>\n",
              "  "
            ]
          },
          "metadata": {},
          "execution_count": 26
        }
      ]
    },
    {
      "cell_type": "code",
      "source": [
        "clients_tr.info()"
      ],
      "metadata": {
        "id": "eH4A_jtjXqky",
        "outputId": "62581e0d-1660-4e17-bb9a-d15514b9e120",
        "colab": {
          "base_uri": "https://localhost:8080/"
        }
      },
      "execution_count": 27,
      "outputs": [
        {
          "output_type": "stream",
          "name": "stdout",
          "text": [
            "<class 'pandas.core.frame.DataFrame'>\n",
            "Index: 23292 entries, cx05072 to cx00861\n",
            "Data columns (total 4 columns):\n",
            " #   Column     Non-Null Count  Dtype         \n",
            "---  ------     --------------  -----         \n",
            " 0   birthdate  23292 non-null  datetime64[ns]\n",
            " 1   state      23292 non-null  object        \n",
            " 2   gender     23292 non-null  object        \n",
            " 3   is_churn   23292 non-null  bool          \n",
            "dtypes: bool(1), datetime64[ns](1), object(2)\n",
            "memory usage: 750.6+ KB\n"
          ]
        }
      ]
    },
    {
      "cell_type": "markdown",
      "source": [
        "* Gráficos de distribuição do dataframe clients_tr"
      ],
      "metadata": {
        "id": "Ez1t5uyVxHRD"
      }
    },
    {
      "cell_type": "markdown",
      "source": [
        "Gerando a feature idade para melhor visualizar as informações de datas de nascimento"
      ],
      "metadata": {
        "id": "EcGN-QUFE5f-"
      }
    },
    {
      "cell_type": "code",
      "source": [
        "clients_tr['anos'] = ((clients_tr['birthdate'] - pd.to_datetime(\"today\"))/np.timedelta64(1, 'Y'))*(-1)\n",
        "clients_tr.sample(5)"
      ],
      "metadata": {
        "colab": {
          "base_uri": "https://localhost:8080/",
          "height": 238
        },
        "id": "9ab2wNuaFB19",
        "outputId": "7f53d7a6-ecc6-46ac-8651-3d42c05e962b"
      },
      "execution_count": 28,
      "outputs": [
        {
          "output_type": "execute_result",
          "data": {
            "text/plain": [
              "           birthdate state gender  is_churn       anos\n",
              "client_id                                             \n",
              "cx10097   1976-02-16  st22    cg2     False  46.100383\n",
              "cx05258   1984-07-29  st15    cg1     False  37.651202\n",
              "cx03822   1963-01-28  st03    cg1     False  59.151986\n",
              "cx08556   1985-08-13  st04    cg1     False  36.610798\n",
              "cx33863   1966-01-26  st15    cg2     False  56.156716"
            ],
            "text/html": [
              "\n",
              "  <div id=\"df-d727c9a2-d99a-49d3-bccb-365fab85027e\">\n",
              "    <div class=\"colab-df-container\">\n",
              "      <div>\n",
              "<style scoped>\n",
              "    .dataframe tbody tr th:only-of-type {\n",
              "        vertical-align: middle;\n",
              "    }\n",
              "\n",
              "    .dataframe tbody tr th {\n",
              "        vertical-align: top;\n",
              "    }\n",
              "\n",
              "    .dataframe thead th {\n",
              "        text-align: right;\n",
              "    }\n",
              "</style>\n",
              "<table border=\"1\" class=\"dataframe\">\n",
              "  <thead>\n",
              "    <tr style=\"text-align: right;\">\n",
              "      <th></th>\n",
              "      <th>birthdate</th>\n",
              "      <th>state</th>\n",
              "      <th>gender</th>\n",
              "      <th>is_churn</th>\n",
              "      <th>anos</th>\n",
              "    </tr>\n",
              "    <tr>\n",
              "      <th>client_id</th>\n",
              "      <th></th>\n",
              "      <th></th>\n",
              "      <th></th>\n",
              "      <th></th>\n",
              "      <th></th>\n",
              "    </tr>\n",
              "  </thead>\n",
              "  <tbody>\n",
              "    <tr>\n",
              "      <th>cx10097</th>\n",
              "      <td>1976-02-16</td>\n",
              "      <td>st22</td>\n",
              "      <td>cg2</td>\n",
              "      <td>False</td>\n",
              "      <td>46.100383</td>\n",
              "    </tr>\n",
              "    <tr>\n",
              "      <th>cx05258</th>\n",
              "      <td>1984-07-29</td>\n",
              "      <td>st15</td>\n",
              "      <td>cg1</td>\n",
              "      <td>False</td>\n",
              "      <td>37.651202</td>\n",
              "    </tr>\n",
              "    <tr>\n",
              "      <th>cx03822</th>\n",
              "      <td>1963-01-28</td>\n",
              "      <td>st03</td>\n",
              "      <td>cg1</td>\n",
              "      <td>False</td>\n",
              "      <td>59.151986</td>\n",
              "    </tr>\n",
              "    <tr>\n",
              "      <th>cx08556</th>\n",
              "      <td>1985-08-13</td>\n",
              "      <td>st04</td>\n",
              "      <td>cg1</td>\n",
              "      <td>False</td>\n",
              "      <td>36.610798</td>\n",
              "    </tr>\n",
              "    <tr>\n",
              "      <th>cx33863</th>\n",
              "      <td>1966-01-26</td>\n",
              "      <td>st15</td>\n",
              "      <td>cg2</td>\n",
              "      <td>False</td>\n",
              "      <td>56.156716</td>\n",
              "    </tr>\n",
              "  </tbody>\n",
              "</table>\n",
              "</div>\n",
              "      <button class=\"colab-df-convert\" onclick=\"convertToInteractive('df-d727c9a2-d99a-49d3-bccb-365fab85027e')\"\n",
              "              title=\"Convert this dataframe to an interactive table.\"\n",
              "              style=\"display:none;\">\n",
              "        \n",
              "  <svg xmlns=\"http://www.w3.org/2000/svg\" height=\"24px\"viewBox=\"0 0 24 24\"\n",
              "       width=\"24px\">\n",
              "    <path d=\"M0 0h24v24H0V0z\" fill=\"none\"/>\n",
              "    <path d=\"M18.56 5.44l.94 2.06.94-2.06 2.06-.94-2.06-.94-.94-2.06-.94 2.06-2.06.94zm-11 1L8.5 8.5l.94-2.06 2.06-.94-2.06-.94L8.5 2.5l-.94 2.06-2.06.94zm10 10l.94 2.06.94-2.06 2.06-.94-2.06-.94-.94-2.06-.94 2.06-2.06.94z\"/><path d=\"M17.41 7.96l-1.37-1.37c-.4-.4-.92-.59-1.43-.59-.52 0-1.04.2-1.43.59L10.3 9.45l-7.72 7.72c-.78.78-.78 2.05 0 2.83L4 21.41c.39.39.9.59 1.41.59.51 0 1.02-.2 1.41-.59l7.78-7.78 2.81-2.81c.8-.78.8-2.07 0-2.86zM5.41 20L4 18.59l7.72-7.72 1.47 1.35L5.41 20z\"/>\n",
              "  </svg>\n",
              "      </button>\n",
              "      \n",
              "  <style>\n",
              "    .colab-df-container {\n",
              "      display:flex;\n",
              "      flex-wrap:wrap;\n",
              "      gap: 12px;\n",
              "    }\n",
              "\n",
              "    .colab-df-convert {\n",
              "      background-color: #E8F0FE;\n",
              "      border: none;\n",
              "      border-radius: 50%;\n",
              "      cursor: pointer;\n",
              "      display: none;\n",
              "      fill: #1967D2;\n",
              "      height: 32px;\n",
              "      padding: 0 0 0 0;\n",
              "      width: 32px;\n",
              "    }\n",
              "\n",
              "    .colab-df-convert:hover {\n",
              "      background-color: #E2EBFA;\n",
              "      box-shadow: 0px 1px 2px rgba(60, 64, 67, 0.3), 0px 1px 3px 1px rgba(60, 64, 67, 0.15);\n",
              "      fill: #174EA6;\n",
              "    }\n",
              "\n",
              "    [theme=dark] .colab-df-convert {\n",
              "      background-color: #3B4455;\n",
              "      fill: #D2E3FC;\n",
              "    }\n",
              "\n",
              "    [theme=dark] .colab-df-convert:hover {\n",
              "      background-color: #434B5C;\n",
              "      box-shadow: 0px 1px 3px 1px rgba(0, 0, 0, 0.15);\n",
              "      filter: drop-shadow(0px 1px 2px rgba(0, 0, 0, 0.3));\n",
              "      fill: #FFFFFF;\n",
              "    }\n",
              "  </style>\n",
              "\n",
              "      <script>\n",
              "        const buttonEl =\n",
              "          document.querySelector('#df-d727c9a2-d99a-49d3-bccb-365fab85027e button.colab-df-convert');\n",
              "        buttonEl.style.display =\n",
              "          google.colab.kernel.accessAllowed ? 'block' : 'none';\n",
              "\n",
              "        async function convertToInteractive(key) {\n",
              "          const element = document.querySelector('#df-d727c9a2-d99a-49d3-bccb-365fab85027e');\n",
              "          const dataTable =\n",
              "            await google.colab.kernel.invokeFunction('convertToInteractive',\n",
              "                                                     [key], {});\n",
              "          if (!dataTable) return;\n",
              "\n",
              "          const docLinkHtml = 'Like what you see? Visit the ' +\n",
              "            '<a target=\"_blank\" href=https://colab.research.google.com/notebooks/data_table.ipynb>data table notebook</a>'\n",
              "            + ' to learn more about interactive tables.';\n",
              "          element.innerHTML = '';\n",
              "          dataTable['output_type'] = 'display_data';\n",
              "          await google.colab.output.renderOutput(dataTable, element);\n",
              "          const docLink = document.createElement('div');\n",
              "          docLink.innerHTML = docLinkHtml;\n",
              "          element.appendChild(docLink);\n",
              "        }\n",
              "      </script>\n",
              "    </div>\n",
              "  </div>\n",
              "  "
            ]
          },
          "metadata": {},
          "execution_count": 28
        }
      ]
    },
    {
      "cell_type": "code",
      "source": [
        "fig, axes = plt.subplots(3, 2, figsize = (20,10))\n",
        "fig.subplots_adjust(hspace=0.5, wspace=0.125)\n",
        "fig.suptitle('Distribuição das features do dataframe clients_tr')\n",
        "\n",
        "#Idade\n",
        "sns.histplot(ax=axes[0, 0],x=clients_tr['anos'], kde=True)\n",
        "axes[0, 0].tick_params(axis='x', rotation=90)\n",
        "axes[0, 0].set(xlabel='Idades\\n Média: ' + str(clients_tr['anos'].mean()) + ' Mediana: ' + str(clients_tr['anos'].median()), ylabel='Frequência')\n",
        "\n",
        "#Idade - Boxplots\n",
        "sns.boxplot(ax=axes[1, 0],x=clients_tr['anos'])\n",
        "axes[1, 0].tick_params(axis='x', rotation=90)\n",
        "axes[1, 0].set(xlabel='Idades\\n Média: ' + str(clients_tr['anos'].mean()) + '; Mediana: ' + str(clients_tr['anos'].median()))\n",
        "\n",
        "#Gênero\n",
        "sns.countplot(ax=axes[1, 1],x=clients_tr['gender'])\n",
        "axes[1, 1].tick_params(axis='x', rotation=90)\n",
        "axes[1, 1].set(xlabel='Gêneros', ylabel='Contagem')\n",
        "\n",
        "#Estado\n",
        "sns.countplot(ax=axes[0, 1],x=clients_tr['state'])\n",
        "axes[0, 1].tick_params(axis='x', rotation=90)\n",
        "axes[0, 1].set(xlabel='Estados', ylabel='Contagem')\n",
        "\n",
        "#É Churn\n",
        "sns.countplot(ax=axes[2, 0],x=clients_tr['is_churn'])\n",
        "axes[2, 0].tick_params(axis='x', rotation=90)\n",
        "axes[2, 0].set(xlabel='É Churn', ylabel='Contagem')\n",
        "\n",
        "plt.show();"
      ],
      "metadata": {
        "colab": {
          "base_uri": "https://localhost:8080/",
          "height": 693
        },
        "id": "P1GdWfonw2Ep",
        "outputId": "3c566112-ef3c-4389-8e21-7d4717d03d52"
      },
      "execution_count": 29,
      "outputs": [
        {
          "output_type": "display_data",
          "data": {
            "text/plain": [
              "<Figure size 1440x720 with 6 Axes>"
            ],
            "image/png": "[encoded data removed]"
          },
          "metadata": {
            "needs_background": "light"
          }
        }
      ]
    },
    {
      "cell_type": "markdown",
      "source": [
        "* Tabela de contingência mostrando a correlação entre variáveis categóricas e binárias"
      ],
      "metadata": {
        "id": "KokGySDI3y2y"
      }
    },
    {
      "cell_type": "code",
      "source": [
        "fig, axes = plt.subplots(1, 2, figsize = (20,10))\n",
        "fig.subplots_adjust(hspace=0.5, wspace=0.125)\n",
        "fig.suptitle('Tabelas de contigência das variáveis categóricas e binárias')\n",
        "\n",
        "#Gênero\n",
        "cont_gender = pd.crosstab(clients_tr['gender'], clients_tr['is_churn'], normalize='index')\n",
        "#print(cont_gender)\n",
        "sns.heatmap(cont_gender, cmap=\"YlGnBu\", annot=True, cbar=False,  fmt=\".2f\", ax=axes[0])\n",
        "#Estados\n",
        "cont_state = pd.crosstab(clients_tr['state'], clients_tr['is_churn'], normalize='index')\n",
        "sns.heatmap(cont_state, cmap=\"YlGnBu\", annot=True, cbar=True,  fmt=\".2f\", ax=axes[1])\n",
        "plt.show();"
      ],
      "metadata": {
        "colab": {
          "base_uri": "https://localhost:8080/",
          "height": 678
        },
        "id": "-TidHcvr35zH",
        "outputId": "a49c20ab-7783-461c-fdc4-abc3bbd7548f"
      },
      "execution_count": 30,
      "outputs": [
        {
          "output_type": "display_data",
          "data": {
            "text/plain": [
              "<Figure size 1440x720 with 3 Axes>"
            ],
            "image/png": "[encoded data removed]"
          },
          "metadata": {
            "needs_background": "light"
          }
        }
      ]
    },
    {
      "cell_type": "markdown",
      "source": [
        "* Idade x is_churn"
      ],
      "metadata": {
        "id": "GvyP-9X4AHJc"
      }
    },
    {
      "cell_type": "code",
      "source": [
        "fig, axes = plt.subplots(2, 2, figsize = (20,10))\n",
        "fig.subplots_adjust(hspace=0.5, wspace=0.125)\n",
        "fig.suptitle('Idade x Churn')\n",
        "\n",
        "#False e True para 1 ou 0\n",
        "clients_tr['is_churn_int'] = clients_tr['is_churn'].astype(np.int_)\n",
        "\n",
        "#Boxplots\n",
        "sns.boxplot(ax=axes[0, 0],y=clients_tr['anos'], x=clients_tr['is_churn'])\n",
        "axes[0, 0].tick_params(axis='x', rotation=90)\n",
        "axes[0, 0].set(xlabel='Is Churn', ylabel='Idades')\n",
        "\n",
        "#Violino\n",
        "sns.violinplot(ax=axes[0, 1],y=clients_tr['anos'], x=clients_tr['is_churn'])\n",
        "axes[0, 1].tick_params(axis='x', rotation=90)\n",
        "axes[0, 1].set(xlabel='Is Churn', ylabel='Idades')\n",
        "\n",
        "#Dispersão\n",
        "sns.scatterplot(x=clients_tr['anos'], y=clients_tr['is_churn_int'],  ax=axes[1,0]);\n",
        "axes[1,0].tick_params(axis='x', rotation=90)\n",
        "axes[1,0].set(xlabel='Idade', ylabel='Is Churn')\n",
        "\n",
        "plt.show();"
      ],
      "metadata": {
        "colab": {
          "base_uri": "https://localhost:8080/",
          "height": 686
        },
        "id": "i0uTCUDe7SHa",
        "outputId": "c2c6839f-5658-4f2b-e115-0d25c0561035"
      },
      "execution_count": 31,
      "outputs": [
        {
          "output_type": "display_data",
          "data": {
            "text/plain": [
              "<Figure size 1440x720 with 4 Axes>"
            ],
            "image/png": "[encoded data removed]"
          },
          "metadata": {
            "needs_background": "light"
          }
        }
      ]
    },
    {
      "cell_type": "markdown",
      "source": [
        "Correlação"
      ],
      "metadata": {
        "id": "FbJeV6eKcaJa"
      }
    },
    {
      "cell_type": "code",
      "source": [
        "clients_tr['is_churn_int'] = clients_tr['is_churn'].astype(np.int_)\n",
        "#clients_tr = clients_tr.drop(columns=['is_churn_int'])\n",
        "clients_tr[['is_churn', 'anos']].corr()"
      ],
      "metadata": {
        "colab": {
          "base_uri": "https://localhost:8080/",
          "height": 112
        },
        "id": "-iak_7OPccrL",
        "outputId": "c1076a83-fd28-43b1-dc3a-003aead158ae"
      },
      "execution_count": 32,
      "outputs": [
        {
          "output_type": "execute_result",
          "data": {
            "text/plain": [
              "          is_churn      anos\n",
              "is_churn  1.000000  0.101795\n",
              "anos      0.101795  1.000000"
            ],
            "text/html": [
              "\n",
              "  <div id=\"df-a3a8bf1c-8a0c-4cde-ace3-59c767dae694\">\n",
              "    <div class=\"colab-df-container\">\n",
              "      <div>\n",
              "<style scoped>\n",
              "    .dataframe tbody tr th:only-of-type {\n",
              "        vertical-align: middle;\n",
              "    }\n",
              "\n",
              "    .dataframe tbody tr th {\n",
              "        vertical-align: top;\n",
              "    }\n",
              "\n",
              "    .dataframe thead th {\n",
              "        text-align: right;\n",
              "    }\n",
              "</style>\n",
              "<table border=\"1\" class=\"dataframe\">\n",
              "  <thead>\n",
              "    <tr style=\"text-align: right;\">\n",
              "      <th></th>\n",
              "      <th>is_churn</th>\n",
              "      <th>anos</th>\n",
              "    </tr>\n",
              "  </thead>\n",
              "  <tbody>\n",
              "    <tr>\n",
              "      <th>is_churn</th>\n",
              "      <td>1.000000</td>\n",
              "      <td>0.101795</td>\n",
              "    </tr>\n",
              "    <tr>\n",
              "      <th>anos</th>\n",
              "      <td>0.101795</td>\n",
              "      <td>1.000000</td>\n",
              "    </tr>\n",
              "  </tbody>\n",
              "</table>\n",
              "</div>\n",
              "      <button class=\"colab-df-convert\" onclick=\"convertToInteractive('df-a3a8bf1c-8a0c-4cde-ace3-59c767dae694')\"\n",
              "              title=\"Convert this dataframe to an interactive table.\"\n",
              "              style=\"display:none;\">\n",
              "        \n",
              "  <svg xmlns=\"http://www.w3.org/2000/svg\" height=\"24px\"viewBox=\"0 0 24 24\"\n",
              "       width=\"24px\">\n",
              "    <path d=\"M0 0h24v24H0V0z\" fill=\"none\"/>\n",
              "    <path d=\"M18.56 5.44l.94 2.06.94-2.06 2.06-.94-2.06-.94-.94-2.06-.94 2.06-2.06.94zm-11 1L8.5 8.5l.94-2.06 2.06-.94-2.06-.94L8.5 2.5l-.94 2.06-2.06.94zm10 10l.94 2.06.94-2.06 2.06-.94-2.06-.94-.94-2.06-.94 2.06-2.06.94z\"/><path d=\"M17.41 7.96l-1.37-1.37c-.4-.4-.92-.59-1.43-.59-.52 0-1.04.2-1.43.59L10.3 9.45l-7.72 7.72c-.78.78-.78 2.05 0 2.83L4 21.41c.39.39.9.59 1.41.59.51 0 1.02-.2 1.41-.59l7.78-7.78 2.81-2.81c.8-.78.8-2.07 0-2.86zM5.41 20L4 18.59l7.72-7.72 1.47 1.35L5.41 20z\"/>\n",
              "  </svg>\n",
              "      </button>\n",
              "      \n",
              "  <style>\n",
              "    .colab-df-container {\n",
              "      display:flex;\n",
              "      flex-wrap:wrap;\n",
              "      gap: 12px;\n",
              "    }\n",
              "\n",
              "    .colab-df-convert {\n",
              "      background-color: #E8F0FE;\n",
              "      border: none;\n",
              "      border-radius: 50%;\n",
              "      cursor: pointer;\n",
              "      display: none;\n",
              "      fill: #1967D2;\n",
              "      height: 32px;\n",
              "      padding: 0 0 0 0;\n",
              "      width: 32px;\n",
              "    }\n",
              "\n",
              "    .colab-df-convert:hover {\n",
              "      background-color: #E2EBFA;\n",
              "      box-shadow: 0px 1px 2px rgba(60, 64, 67, 0.3), 0px 1px 3px 1px rgba(60, 64, 67, 0.15);\n",
              "      fill: #174EA6;\n",
              "    }\n",
              "\n",
              "    [theme=dark] .colab-df-convert {\n",
              "      background-color: #3B4455;\n",
              "      fill: #D2E3FC;\n",
              "    }\n",
              "\n",
              "    [theme=dark] .colab-df-convert:hover {\n",
              "      background-color: #434B5C;\n",
              "      box-shadow: 0px 1px 3px 1px rgba(0, 0, 0, 0.15);\n",
              "      filter: drop-shadow(0px 1px 2px rgba(0, 0, 0, 0.3));\n",
              "      fill: #FFFFFF;\n",
              "    }\n",
              "  </style>\n",
              "\n",
              "      <script>\n",
              "        const buttonEl =\n",
              "          document.querySelector('#df-a3a8bf1c-8a0c-4cde-ace3-59c767dae694 button.colab-df-convert');\n",
              "        buttonEl.style.display =\n",
              "          google.colab.kernel.accessAllowed ? 'block' : 'none';\n",
              "\n",
              "        async function convertToInteractive(key) {\n",
              "          const element = document.querySelector('#df-a3a8bf1c-8a0c-4cde-ace3-59c767dae694');\n",
              "          const dataTable =\n",
              "            await google.colab.kernel.invokeFunction('convertToInteractive',\n",
              "                                                     [key], {});\n",
              "          if (!dataTable) return;\n",
              "\n",
              "          const docLinkHtml = 'Like what you see? Visit the ' +\n",
              "            '<a target=\"_blank\" href=https://colab.research.google.com/notebooks/data_table.ipynb>data table notebook</a>'\n",
              "            + ' to learn more about interactive tables.';\n",
              "          element.innerHTML = '';\n",
              "          dataTable['output_type'] = 'display_data';\n",
              "          await google.colab.output.renderOutput(dataTable, element);\n",
              "          const docLink = document.createElement('div');\n",
              "          docLink.innerHTML = docLinkHtml;\n",
              "          element.appendChild(docLink);\n",
              "        }\n",
              "      </script>\n",
              "    </div>\n",
              "  </div>\n",
              "  "
            ]
          },
          "metadata": {},
          "execution_count": 32
        }
      ]
    },
    {
      "cell_type": "markdown",
      "source": [
        "### Exploração da tabela product"
      ],
      "metadata": {
        "id": "-DPnwPBoYsb1"
      }
    },
    {
      "cell_type": "code",
      "source": [
        "product.describe(include='all')"
      ],
      "metadata": {
        "colab": {
          "base_uri": "https://localhost:8080/",
          "height": 175
        },
        "id": "BM2z5GCeY0bN",
        "outputId": "fe9815c0-2c91-41e0-f6d2-67fd9d7e91bd"
      },
      "execution_count": 33,
      "outputs": [
        {
          "output_type": "execute_result",
          "data": {
            "text/plain": [
              "       category_lv0 category_lv1  category_lv2      category_lv3  \\\n",
              "count         12659        12659         12659             12659   \n",
              "unique           52          296           893              1218   \n",
              "top            mk17     mk21:089  mk03:092:378  mk03:092:378:103   \n",
              "freq           1273          563           237               237   \n",
              "\n",
              "                  category_lv4  \n",
              "count                    12659  \n",
              "unique                   10763  \n",
              "top     mk35:072:177:182:09721  \n",
              "freq                        10  "
            ],
            "text/html": [
              "\n",
              "  <div id=\"df-01388395-ddef-4386-98e4-8c20b9911f87\">\n",
              "    <div class=\"colab-df-container\">\n",
              "      <div>\n",
              "<style scoped>\n",
              "    .dataframe tbody tr th:only-of-type {\n",
              "        vertical-align: middle;\n",
              "    }\n",
              "\n",
              "    .dataframe tbody tr th {\n",
              "        vertical-align: top;\n",
              "    }\n",
              "\n",
              "    .dataframe thead th {\n",
              "        text-align: right;\n",
              "    }\n",
              "</style>\n",
              "<table border=\"1\" class=\"dataframe\">\n",
              "  <thead>\n",
              "    <tr style=\"text-align: right;\">\n",
              "      <th></th>\n",
              "      <th>category_lv0</th>\n",
              "      <th>category_lv1</th>\n",
              "      <th>category_lv2</th>\n",
              "      <th>category_lv3</th>\n",
              "      <th>category_lv4</th>\n",
              "    </tr>\n",
              "  </thead>\n",
              "  <tbody>\n",
              "    <tr>\n",
              "      <th>count</th>\n",
              "      <td>12659</td>\n",
              "      <td>12659</td>\n",
              "      <td>12659</td>\n",
              "      <td>12659</td>\n",
              "      <td>12659</td>\n",
              "    </tr>\n",
              "    <tr>\n",
              "      <th>unique</th>\n",
              "      <td>52</td>\n",
              "      <td>296</td>\n",
              "      <td>893</td>\n",
              "      <td>1218</td>\n",
              "      <td>10763</td>\n",
              "    </tr>\n",
              "    <tr>\n",
              "      <th>top</th>\n",
              "      <td>mk17</td>\n",
              "      <td>mk21:089</td>\n",
              "      <td>mk03:092:378</td>\n",
              "      <td>mk03:092:378:103</td>\n",
              "      <td>mk35:072:177:182:09721</td>\n",
              "    </tr>\n",
              "    <tr>\n",
              "      <th>freq</th>\n",
              "      <td>1273</td>\n",
              "      <td>563</td>\n",
              "      <td>237</td>\n",
              "      <td>237</td>\n",
              "      <td>10</td>\n",
              "    </tr>\n",
              "  </tbody>\n",
              "</table>\n",
              "</div>\n",
              "      <button class=\"colab-df-convert\" onclick=\"convertToInteractive('df-01388395-ddef-4386-98e4-8c20b9911f87')\"\n",
              "              title=\"Convert this dataframe to an interactive table.\"\n",
              "              style=\"display:none;\">\n",
              "        \n",
              "  <svg xmlns=\"http://www.w3.org/2000/svg\" height=\"24px\"viewBox=\"0 0 24 24\"\n",
              "       width=\"24px\">\n",
              "    <path d=\"M0 0h24v24H0V0z\" fill=\"none\"/>\n",
              "    <path d=\"M18.56 5.44l.94 2.06.94-2.06 2.06-.94-2.06-.94-.94-2.06-.94 2.06-2.06.94zm-11 1L8.5 8.5l.94-2.06 2.06-.94-2.06-.94L8.5 2.5l-.94 2.06-2.06.94zm10 10l.94 2.06.94-2.06 2.06-.94-2.06-.94-.94-2.06-.94 2.06-2.06.94z\"/><path d=\"M17.41 7.96l-1.37-1.37c-.4-.4-.92-.59-1.43-.59-.52 0-1.04.2-1.43.59L10.3 9.45l-7.72 7.72c-.78.78-.78 2.05 0 2.83L4 21.41c.39.39.9.59 1.41.59.51 0 1.02-.2 1.41-.59l7.78-7.78 2.81-2.81c.8-.78.8-2.07 0-2.86zM5.41 20L4 18.59l7.72-7.72 1.47 1.35L5.41 20z\"/>\n",
              "  </svg>\n",
              "      </button>\n",
              "      \n",
              "  <style>\n",
              "    .colab-df-container {\n",
              "      display:flex;\n",
              "      flex-wrap:wrap;\n",
              "      gap: 12px;\n",
              "    }\n",
              "\n",
              "    .colab-df-convert {\n",
              "      background-color: #E8F0FE;\n",
              "      border: none;\n",
              "      border-radius: 50%;\n",
              "      cursor: pointer;\n",
              "      display: none;\n",
              "      fill: #1967D2;\n",
              "      height: 32px;\n",
              "      padding: 0 0 0 0;\n",
              "      width: 32px;\n",
              "    }\n",
              "\n",
              "    .colab-df-convert:hover {\n",
              "      background-color: #E2EBFA;\n",
              "      box-shadow: 0px 1px 2px rgba(60, 64, 67, 0.3), 0px 1px 3px 1px rgba(60, 64, 67, 0.15);\n",
              "      fill: #174EA6;\n",
              "    }\n",
              "\n",
              "    [theme=dark] .colab-df-convert {\n",
              "      background-color: #3B4455;\n",
              "      fill: #D2E3FC;\n",
              "    }\n",
              "\n",
              "    [theme=dark] .colab-df-convert:hover {\n",
              "      background-color: #434B5C;\n",
              "      box-shadow: 0px 1px 3px 1px rgba(0, 0, 0, 0.15);\n",
              "      filter: drop-shadow(0px 1px 2px rgba(0, 0, 0, 0.3));\n",
              "      fill: #FFFFFF;\n",
              "    }\n",
              "  </style>\n",
              "\n",
              "      <script>\n",
              "        const buttonEl =\n",
              "          document.querySelector('#df-01388395-ddef-4386-98e4-8c20b9911f87 button.colab-df-convert');\n",
              "        buttonEl.style.display =\n",
              "          google.colab.kernel.accessAllowed ? 'block' : 'none';\n",
              "\n",
              "        async function convertToInteractive(key) {\n",
              "          const element = document.querySelector('#df-01388395-ddef-4386-98e4-8c20b9911f87');\n",
              "          const dataTable =\n",
              "            await google.colab.kernel.invokeFunction('convertToInteractive',\n",
              "                                                     [key], {});\n",
              "          if (!dataTable) return;\n",
              "\n",
              "          const docLinkHtml = 'Like what you see? Visit the ' +\n",
              "            '<a target=\"_blank\" href=https://colab.research.google.com/notebooks/data_table.ipynb>data table notebook</a>'\n",
              "            + ' to learn more about interactive tables.';\n",
              "          element.innerHTML = '';\n",
              "          dataTable['output_type'] = 'display_data';\n",
              "          await google.colab.output.renderOutput(dataTable, element);\n",
              "          const docLink = document.createElement('div');\n",
              "          docLink.innerHTML = docLinkHtml;\n",
              "          element.appendChild(docLink);\n",
              "        }\n",
              "      </script>\n",
              "    </div>\n",
              "  </div>\n",
              "  "
            ]
          },
          "metadata": {},
          "execution_count": 33
        }
      ]
    },
    {
      "cell_type": "code",
      "source": [
        "product.info()"
      ],
      "metadata": {
        "colab": {
          "base_uri": "https://localhost:8080/"
        },
        "id": "t5RL79BNaLEQ",
        "outputId": "0f54e837-d9f7-4314-dbb2-85606640db5a"
      },
      "execution_count": 34,
      "outputs": [
        {
          "output_type": "stream",
          "name": "stdout",
          "text": [
            "<class 'pandas.core.frame.DataFrame'>\n",
            "Index: 12659 entries, px01237 to px07271\n",
            "Data columns (total 5 columns):\n",
            " #   Column        Non-Null Count  Dtype \n",
            "---  ------        --------------  ----- \n",
            " 0   category_lv0  12659 non-null  object\n",
            " 1   category_lv1  12659 non-null  object\n",
            " 2   category_lv2  12659 non-null  object\n",
            " 3   category_lv3  12659 non-null  object\n",
            " 4   category_lv4  12659 non-null  object\n",
            "dtypes: object(5)\n",
            "memory usage: 593.4+ KB\n"
          ]
        }
      ]
    },
    {
      "cell_type": "markdown",
      "source": [
        "### Exploração da tabela orders"
      ],
      "metadata": {
        "id": "H6pdq_VMhrd8"
      }
    },
    {
      "cell_type": "code",
      "source": [
        "orders.describe(include='all')"
      ],
      "metadata": {
        "colab": {
          "base_uri": "https://localhost:8080/",
          "height": 457
        },
        "id": "CZQNL4UXhdiL",
        "outputId": "a6a38c41-618f-4c86-d5aa-c78679f4c936"
      },
      "execution_count": 35,
      "outputs": [
        {
          "output_type": "execute_result",
          "data": {
            "text/plain": [
              "       client_id product_id             datetime          units  \\\n",
              "count     168472     168472               168472  168472.000000   \n",
              "unique     38821      12535               102263            NaN   \n",
              "top      cx33292    px10485  2019-11-29 10:29:00            NaN   \n",
              "freq         101       1875                   41            NaN   \n",
              "first        NaN        NaN  2019-01-01 01:22:00            NaN   \n",
              "last         NaN        NaN  2019-12-31 23:46:00            NaN   \n",
              "mean         NaN        NaN                  NaN       1.228846   \n",
              "std          NaN        NaN                  NaN       1.504511   \n",
              "min          NaN        NaN                  NaN       0.000000   \n",
              "25%          NaN        NaN                  NaN       1.000000   \n",
              "50%          NaN        NaN                  NaN       1.000000   \n",
              "75%          NaN        NaN                  NaN       1.000000   \n",
              "max          NaN        NaN                  NaN     110.000000   \n",
              "\n",
              "                price payment_method  installments  delivery_days  \\\n",
              "count   168472.000000         168472  36545.000000   89642.000000   \n",
              "unique            NaN             14           NaN            NaN   \n",
              "top               NaN           pm05           NaN            NaN   \n",
              "freq              NaN         131927           NaN            NaN   \n",
              "first             NaN            NaN           NaN            NaN   \n",
              "last              NaN            NaN           NaN            NaN   \n",
              "mean       451.384291            NaN      4.551293       7.017938   \n",
              "std        857.769280            NaN      4.704385       6.855334   \n",
              "min      -8999.000000            NaN      1.000000       0.000000   \n",
              "25%         39.900000            NaN      1.000000       2.000000   \n",
              "50%        162.580000            NaN      3.000000       5.000000   \n",
              "75%        699.000000            NaN      7.000000       9.000000   \n",
              "max      25648.900000            NaN     24.000000     165.000000   \n",
              "\n",
              "       delivery_state  device  source  \n",
              "count          168472  168472  168472  \n",
              "unique             26       9      16  \n",
              "top              st07     dv9    sc08  \n",
              "freq            97820   97794   97796  \n",
              "first             NaN     NaN     NaN  \n",
              "last              NaN     NaN     NaN  \n",
              "mean              NaN     NaN     NaN  \n",
              "std               NaN     NaN     NaN  \n",
              "min               NaN     NaN     NaN  \n",
              "25%               NaN     NaN     NaN  \n",
              "50%               NaN     NaN     NaN  \n",
              "75%               NaN     NaN     NaN  \n",
              "max               NaN     NaN     NaN  "
            ],
            "text/html": [
              "\n",
              "  <div id=\"df-80c0b872-635a-43f8-b79e-2f4d5fed49cb\">\n",
              "    <div class=\"colab-df-container\">\n",
              "      <div>\n",
              "<style scoped>\n",
              "    .dataframe tbody tr th:only-of-type {\n",
              "        vertical-align: middle;\n",
              "    }\n",
              "\n",
              "    .dataframe tbody tr th {\n",
              "        vertical-align: top;\n",
              "    }\n",
              "\n",
              "    .dataframe thead th {\n",
              "        text-align: right;\n",
              "    }\n",
              "</style>\n",
              "<table border=\"1\" class=\"dataframe\">\n",
              "  <thead>\n",
              "    <tr style=\"text-align: right;\">\n",
              "      <th></th>\n",
              "      <th>client_id</th>\n",
              "      <th>product_id</th>\n",
              "      <th>datetime</th>\n",
              "      <th>units</th>\n",
              "      <th>price</th>\n",
              "      <th>payment_method</th>\n",
              "      <th>installments</th>\n",
              "      <th>delivery_days</th>\n",
              "      <th>delivery_state</th>\n",
              "      <th>device</th>\n",
              "      <th>source</th>\n",
              "    </tr>\n",
              "  </thead>\n",
              "  <tbody>\n",
              "    <tr>\n",
              "      <th>count</th>\n",
              "      <td>168472</td>\n",
              "      <td>168472</td>\n",
              "      <td>168472</td>\n",
              "      <td>168472.000000</td>\n",
              "      <td>168472.000000</td>\n",
              "      <td>168472</td>\n",
              "      <td>36545.000000</td>\n",
              "      <td>89642.000000</td>\n",
              "      <td>168472</td>\n",
              "      <td>168472</td>\n",
              "      <td>168472</td>\n",
              "    </tr>\n",
              "    <tr>\n",
              "      <th>unique</th>\n",
              "      <td>38821</td>\n",
              "      <td>12535</td>\n",
              "      <td>102263</td>\n",
              "      <td>NaN</td>\n",
              "      <td>NaN</td>\n",
              "      <td>14</td>\n",
              "      <td>NaN</td>\n",
              "      <td>NaN</td>\n",
              "      <td>26</td>\n",
              "      <td>9</td>\n",
              "      <td>16</td>\n",
              "    </tr>\n",
              "    <tr>\n",
              "      <th>top</th>\n",
              "      <td>cx33292</td>\n",
              "      <td>px10485</td>\n",
              "      <td>2019-11-29 10:29:00</td>\n",
              "      <td>NaN</td>\n",
              "      <td>NaN</td>\n",
              "      <td>pm05</td>\n",
              "      <td>NaN</td>\n",
              "      <td>NaN</td>\n",
              "      <td>st07</td>\n",
              "      <td>dv9</td>\n",
              "      <td>sc08</td>\n",
              "    </tr>\n",
              "    <tr>\n",
              "      <th>freq</th>\n",
              "      <td>101</td>\n",
              "      <td>1875</td>\n",
              "      <td>41</td>\n",
              "      <td>NaN</td>\n",
              "      <td>NaN</td>\n",
              "      <td>131927</td>\n",
              "      <td>NaN</td>\n",
              "      <td>NaN</td>\n",
              "      <td>97820</td>\n",
              "      <td>97794</td>\n",
              "      <td>97796</td>\n",
              "    </tr>\n",
              "    <tr>\n",
              "      <th>first</th>\n",
              "      <td>NaN</td>\n",
              "      <td>NaN</td>\n",
              "      <td>2019-01-01 01:22:00</td>\n",
              "      <td>NaN</td>\n",
              "      <td>NaN</td>\n",
              "      <td>NaN</td>\n",
              "      <td>NaN</td>\n",
              "      <td>NaN</td>\n",
              "      <td>NaN</td>\n",
              "      <td>NaN</td>\n",
              "      <td>NaN</td>\n",
              "    </tr>\n",
              "    <tr>\n",
              "      <th>last</th>\n",
              "      <td>NaN</td>\n",
              "      <td>NaN</td>\n",
              "      <td>2019-12-31 23:46:00</td>\n",
              "      <td>NaN</td>\n",
              "      <td>NaN</td>\n",
              "      <td>NaN</td>\n",
              "      <td>NaN</td>\n",
              "      <td>NaN</td>\n",
              "      <td>NaN</td>\n",
              "      <td>NaN</td>\n",
              "      <td>NaN</td>\n",
              "    </tr>\n",
              "    <tr>\n",
              "      <th>mean</th>\n",
              "      <td>NaN</td>\n",
              "      <td>NaN</td>\n",
              "      <td>NaN</td>\n",
              "      <td>1.228846</td>\n",
              "      <td>451.384291</td>\n",
              "      <td>NaN</td>\n",
              "      <td>4.551293</td>\n",
              "      <td>7.017938</td>\n",
              "      <td>NaN</td>\n",
              "      <td>NaN</td>\n",
              "      <td>NaN</td>\n",
              "    </tr>\n",
              "    <tr>\n",
              "      <th>std</th>\n",
              "      <td>NaN</td>\n",
              "      <td>NaN</td>\n",
              "      <td>NaN</td>\n",
              "      <td>1.504511</td>\n",
              "      <td>857.769280</td>\n",
              "      <td>NaN</td>\n",
              "      <td>4.704385</td>\n",
              "      <td>6.855334</td>\n",
              "      <td>NaN</td>\n",
              "      <td>NaN</td>\n",
              "      <td>NaN</td>\n",
              "    </tr>\n",
              "    <tr>\n",
              "      <th>min</th>\n",
              "      <td>NaN</td>\n",
              "      <td>NaN</td>\n",
              "      <td>NaN</td>\n",
              "      <td>0.000000</td>\n",
              "      <td>-8999.000000</td>\n",
              "      <td>NaN</td>\n",
              "      <td>1.000000</td>\n",
              "      <td>0.000000</td>\n",
              "      <td>NaN</td>\n",
              "      <td>NaN</td>\n",
              "      <td>NaN</td>\n",
              "    </tr>\n",
              "    <tr>\n",
              "      <th>25%</th>\n",
              "      <td>NaN</td>\n",
              "      <td>NaN</td>\n",
              "      <td>NaN</td>\n",
              "      <td>1.000000</td>\n",
              "      <td>39.900000</td>\n",
              "      <td>NaN</td>\n",
              "      <td>1.000000</td>\n",
              "      <td>2.000000</td>\n",
              "      <td>NaN</td>\n",
              "      <td>NaN</td>\n",
              "      <td>NaN</td>\n",
              "    </tr>\n",
              "    <tr>\n",
              "      <th>50%</th>\n",
              "      <td>NaN</td>\n",
              "      <td>NaN</td>\n",
              "      <td>NaN</td>\n",
              "      <td>1.000000</td>\n",
              "      <td>162.580000</td>\n",
              "      <td>NaN</td>\n",
              "      <td>3.000000</td>\n",
              "      <td>5.000000</td>\n",
              "      <td>NaN</td>\n",
              "      <td>NaN</td>\n",
              "      <td>NaN</td>\n",
              "    </tr>\n",
              "    <tr>\n",
              "      <th>75%</th>\n",
              "      <td>NaN</td>\n",
              "      <td>NaN</td>\n",
              "      <td>NaN</td>\n",
              "      <td>1.000000</td>\n",
              "      <td>699.000000</td>\n",
              "      <td>NaN</td>\n",
              "      <td>7.000000</td>\n",
              "      <td>9.000000</td>\n",
              "      <td>NaN</td>\n",
              "      <td>NaN</td>\n",
              "      <td>NaN</td>\n",
              "    </tr>\n",
              "    <tr>\n",
              "      <th>max</th>\n",
              "      <td>NaN</td>\n",
              "      <td>NaN</td>\n",
              "      <td>NaN</td>\n",
              "      <td>110.000000</td>\n",
              "      <td>25648.900000</td>\n",
              "      <td>NaN</td>\n",
              "      <td>24.000000</td>\n",
              "      <td>165.000000</td>\n",
              "      <td>NaN</td>\n",
              "      <td>NaN</td>\n",
              "      <td>NaN</td>\n",
              "    </tr>\n",
              "  </tbody>\n",
              "</table>\n",
              "</div>\n",
              "      <button class=\"colab-df-convert\" onclick=\"convertToInteractive('df-80c0b872-635a-43f8-b79e-2f4d5fed49cb')\"\n",
              "              title=\"Convert this dataframe to an interactive table.\"\n",
              "              style=\"display:none;\">\n",
              "        \n",
              "  <svg xmlns=\"http://www.w3.org/2000/svg\" height=\"24px\"viewBox=\"0 0 24 24\"\n",
              "       width=\"24px\">\n",
              "    <path d=\"M0 0h24v24H0V0z\" fill=\"none\"/>\n",
              "    <path d=\"M18.56 5.44l.94 2.06.94-2.06 2.06-.94-2.06-.94-.94-2.06-.94 2.06-2.06.94zm-11 1L8.5 8.5l.94-2.06 2.06-.94-2.06-.94L8.5 2.5l-.94 2.06-2.06.94zm10 10l.94 2.06.94-2.06 2.06-.94-2.06-.94-.94-2.06-.94 2.06-2.06.94z\"/><path d=\"M17.41 7.96l-1.37-1.37c-.4-.4-.92-.59-1.43-.59-.52 0-1.04.2-1.43.59L10.3 9.45l-7.72 7.72c-.78.78-.78 2.05 0 2.83L4 21.41c.39.39.9.59 1.41.59.51 0 1.02-.2 1.41-.59l7.78-7.78 2.81-2.81c.8-.78.8-2.07 0-2.86zM5.41 20L4 18.59l7.72-7.72 1.47 1.35L5.41 20z\"/>\n",
              "  </svg>\n",
              "      </button>\n",
              "      \n",
              "  <style>\n",
              "    .colab-df-container {\n",
              "      display:flex;\n",
              "      flex-wrap:wrap;\n",
              "      gap: 12px;\n",
              "    }\n",
              "\n",
              "    .colab-df-convert {\n",
              "      background-color: #E8F0FE;\n",
              "      border: none;\n",
              "      border-radius: 50%;\n",
              "      cursor: pointer;\n",
              "      display: none;\n",
              "      fill: #1967D2;\n",
              "      height: 32px;\n",
              "      padding: 0 0 0 0;\n",
              "      width: 32px;\n",
              "    }\n",
              "\n",
              "    .colab-df-convert:hover {\n",
              "      background-color: #E2EBFA;\n",
              "      box-shadow: 0px 1px 2px rgba(60, 64, 67, 0.3), 0px 1px 3px 1px rgba(60, 64, 67, 0.15);\n",
              "      fill: #174EA6;\n",
              "    }\n",
              "\n",
              "    [theme=dark] .colab-df-convert {\n",
              "      background-color: #3B4455;\n",
              "      fill: #D2E3FC;\n",
              "    }\n",
              "\n",
              "    [theme=dark] .colab-df-convert:hover {\n",
              "      background-color: #434B5C;\n",
              "      box-shadow: 0px 1px 3px 1px rgba(0, 0, 0, 0.15);\n",
              "      filter: drop-shadow(0px 1px 2px rgba(0, 0, 0, 0.3));\n",
              "      fill: #FFFFFF;\n",
              "    }\n",
              "  </style>\n",
              "\n",
              "      <script>\n",
              "        const buttonEl =\n",
              "          document.querySelector('#df-80c0b872-635a-43f8-b79e-2f4d5fed49cb button.colab-df-convert');\n",
              "        buttonEl.style.display =\n",
              "          google.colab.kernel.accessAllowed ? 'block' : 'none';\n",
              "\n",
              "        async function convertToInteractive(key) {\n",
              "          const element = document.querySelector('#df-80c0b872-635a-43f8-b79e-2f4d5fed49cb');\n",
              "          const dataTable =\n",
              "            await google.colab.kernel.invokeFunction('convertToInteractive',\n",
              "                                                     [key], {});\n",
              "          if (!dataTable) return;\n",
              "\n",
              "          const docLinkHtml = 'Like what you see? Visit the ' +\n",
              "            '<a target=\"_blank\" href=https://colab.research.google.com/notebooks/data_table.ipynb>data table notebook</a>'\n",
              "            + ' to learn more about interactive tables.';\n",
              "          element.innerHTML = '';\n",
              "          dataTable['output_type'] = 'display_data';\n",
              "          await google.colab.output.renderOutput(dataTable, element);\n",
              "          const docLink = document.createElement('div');\n",
              "          docLink.innerHTML = docLinkHtml;\n",
              "          element.appendChild(docLink);\n",
              "        }\n",
              "      </script>\n",
              "    </div>\n",
              "  </div>\n",
              "  "
            ]
          },
          "metadata": {},
          "execution_count": 35
        }
      ]
    },
    {
      "cell_type": "code",
      "source": [
        "orders.info()"
      ],
      "metadata": {
        "colab": {
          "base_uri": "https://localhost:8080/"
        },
        "id": "Vc2YdPR0iYs4",
        "outputId": "dc9d21ff-bbc6-4ee9-9f6a-8f38c652da12"
      },
      "execution_count": 36,
      "outputs": [
        {
          "output_type": "stream",
          "name": "stdout",
          "text": [
            "<class 'pandas.core.frame.DataFrame'>\n",
            "Index: 168472 entries, ox008433 to ox079633\n",
            "Data columns (total 11 columns):\n",
            " #   Column          Non-Null Count   Dtype         \n",
            "---  ------          --------------   -----         \n",
            " 0   client_id       168472 non-null  object        \n",
            " 1   product_id      168472 non-null  object        \n",
            " 2   datetime        168472 non-null  datetime64[ns]\n",
            " 3   units           168472 non-null  float64       \n",
            " 4   price           168472 non-null  float64       \n",
            " 5   payment_method  168472 non-null  object        \n",
            " 6   installments    36545 non-null   float64       \n",
            " 7   delivery_days   89642 non-null   float64       \n",
            " 8   delivery_state  168472 non-null  object        \n",
            " 9   device          168472 non-null  object        \n",
            " 10  source          168472 non-null  object        \n",
            "dtypes: datetime64[ns](1), float64(4), object(6)\n",
            "memory usage: 15.4+ MB\n"
          ]
        }
      ]
    },
    {
      "cell_type": "markdown",
      "source": [
        "* Gráficos de distribuição da tabela Orders"
      ],
      "metadata": {
        "id": "__VTfy2DQ3is"
      }
    },
    {
      "cell_type": "markdown",
      "source": [
        "Existem entradas com indexes duplicados em dias de entregas que gera um erro ao plotar o histograma. Vou redefinir o index para ajustar isso."
      ],
      "metadata": {
        "id": "1azTpyu-VvYQ"
      }
    },
    {
      "cell_type": "code",
      "source": [
        "orders2 = orders.reset_index()\n",
        "orders2.head(10)"
      ],
      "metadata": {
        "colab": {
          "base_uri": "https://localhost:8080/",
          "height": 363
        },
        "id": "QBXR_BA1WE71",
        "outputId": "f964f4ba-1e8d-4b95-8259-b0bdf1ed92bb"
      },
      "execution_count": 37,
      "outputs": [
        {
          "output_type": "execute_result",
          "data": {
            "text/plain": [
              "   order_id client_id product_id            datetime  units  price  \\\n",
              "0  ox008433   cx05072    px04611 2019-10-07 15:20:00    1.0   49.9   \n",
              "1  ox070389   cx05072    px12305 2019-10-11 17:42:00    1.0   69.9   \n",
              "2  ox061137   cx06840    px07033 2019-01-19 13:09:00    1.0   35.9   \n",
              "3  ox061137   cx06840    px05992 2019-01-19 13:09:00    3.0   35.9   \n",
              "4  ox038612   cx06840    px10040 2019-04-18 14:36:00    1.0   39.0   \n",
              "5  ox050949   cx06840    px06767 2019-05-17 13:40:00    1.0   79.9   \n",
              "6  ox128683   cx06840    px08113 2019-09-28 11:58:00    1.0   55.9   \n",
              "7  ox128683   cx06840    px05746 2019-09-28 11:58:00    1.0   44.1   \n",
              "8  ox100668   cx06840    px04269 2019-12-16 10:27:00    1.0   49.9   \n",
              "9  ox022317   cx01931    px08479 2019-08-07 14:18:00    2.0   24.9   \n",
              "\n",
              "  payment_method  installments  delivery_days delivery_state device source  \n",
              "0           pm05           NaN            NaN           st07    dv9   sc08  \n",
              "1           pm05           NaN            NaN           st07    dv9   sc08  \n",
              "2           pm05           NaN            NaN           st07    dv9   sc08  \n",
              "3           pm05           NaN            NaN           st07    dv9   sc08  \n",
              "4           pm05           NaN            NaN           st07    dv9   sc08  \n",
              "5           pm05           NaN            NaN           st07    dv9   sc08  \n",
              "6           pm05           NaN            NaN           st07    dv9   sc08  \n",
              "7           pm05           NaN            NaN           st07    dv9   sc08  \n",
              "8           pm05           NaN            NaN           st07    dv9   sc08  \n",
              "9           pm05           NaN            NaN           st07    dv9   sc08  "
            ],
            "text/html": [
              "\n",
              "  <div id=\"df-738f6fcf-705f-43ad-839d-d0d7b670e1f5\">\n",
              "    <div class=\"colab-df-container\">\n",
              "      <div>\n",
              "<style scoped>\n",
              "    .dataframe tbody tr th:only-of-type {\n",
              "        vertical-align: middle;\n",
              "    }\n",
              "\n",
              "    .dataframe tbody tr th {\n",
              "        vertical-align: top;\n",
              "    }\n",
              "\n",
              "    .dataframe thead th {\n",
              "        text-align: right;\n",
              "    }\n",
              "</style>\n",
              "<table border=\"1\" class=\"dataframe\">\n",
              "  <thead>\n",
              "    <tr style=\"text-align: right;\">\n",
              "      <th></th>\n",
              "      <th>order_id</th>\n",
              "      <th>client_id</th>\n",
              "      <th>product_id</th>\n",
              "      <th>datetime</th>\n",
              "      <th>units</th>\n",
              "      <th>price</th>\n",
              "      <th>payment_method</th>\n",
              "      <th>installments</th>\n",
              "      <th>delivery_days</th>\n",
              "      <th>delivery_state</th>\n",
              "      <th>device</th>\n",
              "      <th>source</th>\n",
              "    </tr>\n",
              "  </thead>\n",
              "  <tbody>\n",
              "    <tr>\n",
              "      <th>0</th>\n",
              "      <td>ox008433</td>\n",
              "      <td>cx05072</td>\n",
              "      <td>px04611</td>\n",
              "      <td>2019-10-07 15:20:00</td>\n",
              "      <td>1.0</td>\n",
              "      <td>49.9</td>\n",
              "      <td>pm05</td>\n",
              "      <td>NaN</td>\n",
              "      <td>NaN</td>\n",
              "      <td>st07</td>\n",
              "      <td>dv9</td>\n",
              "      <td>sc08</td>\n",
              "    </tr>\n",
              "    <tr>\n",
              "      <th>1</th>\n",
              "      <td>ox070389</td>\n",
              "      <td>cx05072</td>\n",
              "      <td>px12305</td>\n",
              "      <td>2019-10-11 17:42:00</td>\n",
              "      <td>1.0</td>\n",
              "      <td>69.9</td>\n",
              "      <td>pm05</td>\n",
              "      <td>NaN</td>\n",
              "      <td>NaN</td>\n",
              "      <td>st07</td>\n",
              "      <td>dv9</td>\n",
              "      <td>sc08</td>\n",
              "    </tr>\n",
              "    <tr>\n",
              "      <th>2</th>\n",
              "      <td>ox061137</td>\n",
              "      <td>cx06840</td>\n",
              "      <td>px07033</td>\n",
              "      <td>2019-01-19 13:09:00</td>\n",
              "      <td>1.0</td>\n",
              "      <td>35.9</td>\n",
              "      <td>pm05</td>\n",
              "      <td>NaN</td>\n",
              "      <td>NaN</td>\n",
              "      <td>st07</td>\n",
              "      <td>dv9</td>\n",
              "      <td>sc08</td>\n",
              "    </tr>\n",
              "    <tr>\n",
              "      <th>3</th>\n",
              "      <td>ox061137</td>\n",
              "      <td>cx06840</td>\n",
              "      <td>px05992</td>\n",
              "      <td>2019-01-19 13:09:00</td>\n",
              "      <td>3.0</td>\n",
              "      <td>35.9</td>\n",
              "      <td>pm05</td>\n",
              "      <td>NaN</td>\n",
              "      <td>NaN</td>\n",
              "      <td>st07</td>\n",
              "      <td>dv9</td>\n",
              "      <td>sc08</td>\n",
              "    </tr>\n",
              "    <tr>\n",
              "      <th>4</th>\n",
              "      <td>ox038612</td>\n",
              "      <td>cx06840</td>\n",
              "      <td>px10040</td>\n",
              "      <td>2019-04-18 14:36:00</td>\n",
              "      <td>1.0</td>\n",
              "      <td>39.0</td>\n",
              "      <td>pm05</td>\n",
              "      <td>NaN</td>\n",
              "      <td>NaN</td>\n",
              "      <td>st07</td>\n",
              "      <td>dv9</td>\n",
              "      <td>sc08</td>\n",
              "    </tr>\n",
              "    <tr>\n",
              "      <th>5</th>\n",
              "      <td>ox050949</td>\n",
              "      <td>cx06840</td>\n",
              "      <td>px06767</td>\n",
              "      <td>2019-05-17 13:40:00</td>\n",
              "      <td>1.0</td>\n",
              "      <td>79.9</td>\n",
              "      <td>pm05</td>\n",
              "      <td>NaN</td>\n",
              "      <td>NaN</td>\n",
              "      <td>st07</td>\n",
              "      <td>dv9</td>\n",
              "      <td>sc08</td>\n",
              "    </tr>\n",
              "    <tr>\n",
              "      <th>6</th>\n",
              "      <td>ox128683</td>\n",
              "      <td>cx06840</td>\n",
              "      <td>px08113</td>\n",
              "      <td>2019-09-28 11:58:00</td>\n",
              "      <td>1.0</td>\n",
              "      <td>55.9</td>\n",
              "      <td>pm05</td>\n",
              "      <td>NaN</td>\n",
              "      <td>NaN</td>\n",
              "      <td>st07</td>\n",
              "      <td>dv9</td>\n",
              "      <td>sc08</td>\n",
              "    </tr>\n",
              "    <tr>\n",
              "      <th>7</th>\n",
              "      <td>ox128683</td>\n",
              "      <td>cx06840</td>\n",
              "      <td>px05746</td>\n",
              "      <td>2019-09-28 11:58:00</td>\n",
              "      <td>1.0</td>\n",
              "      <td>44.1</td>\n",
              "      <td>pm05</td>\n",
              "      <td>NaN</td>\n",
              "      <td>NaN</td>\n",
              "      <td>st07</td>\n",
              "      <td>dv9</td>\n",
              "      <td>sc08</td>\n",
              "    </tr>\n",
              "    <tr>\n",
              "      <th>8</th>\n",
              "      <td>ox100668</td>\n",
              "      <td>cx06840</td>\n",
              "      <td>px04269</td>\n",
              "      <td>2019-12-16 10:27:00</td>\n",
              "      <td>1.0</td>\n",
              "      <td>49.9</td>\n",
              "      <td>pm05</td>\n",
              "      <td>NaN</td>\n",
              "      <td>NaN</td>\n",
              "      <td>st07</td>\n",
              "      <td>dv9</td>\n",
              "      <td>sc08</td>\n",
              "    </tr>\n",
              "    <tr>\n",
              "      <th>9</th>\n",
              "      <td>ox022317</td>\n",
              "      <td>cx01931</td>\n",
              "      <td>px08479</td>\n",
              "      <td>2019-08-07 14:18:00</td>\n",
              "      <td>2.0</td>\n",
              "      <td>24.9</td>\n",
              "      <td>pm05</td>\n",
              "      <td>NaN</td>\n",
              "      <td>NaN</td>\n",
              "      <td>st07</td>\n",
              "      <td>dv9</td>\n",
              "      <td>sc08</td>\n",
              "    </tr>\n",
              "  </tbody>\n",
              "</table>\n",
              "</div>\n",
              "      <button class=\"colab-df-convert\" onclick=\"convertToInteractive('df-738f6fcf-705f-43ad-839d-d0d7b670e1f5')\"\n",
              "              title=\"Convert this dataframe to an interactive table.\"\n",
              "              style=\"display:none;\">\n",
              "        \n",
              "  <svg xmlns=\"http://www.w3.org/2000/svg\" height=\"24px\"viewBox=\"0 0 24 24\"\n",
              "       width=\"24px\">\n",
              "    <path d=\"M0 0h24v24H0V0z\" fill=\"none\"/>\n",
              "    <path d=\"M18.56 5.44l.94 2.06.94-2.06 2.06-.94-2.06-.94-.94-2.06-.94 2.06-2.06.94zm-11 1L8.5 8.5l.94-2.06 2.06-.94-2.06-.94L8.5 2.5l-.94 2.06-2.06.94zm10 10l.94 2.06.94-2.06 2.06-.94-2.06-.94-.94-2.06-.94 2.06-2.06.94z\"/><path d=\"M17.41 7.96l-1.37-1.37c-.4-.4-.92-.59-1.43-.59-.52 0-1.04.2-1.43.59L10.3 9.45l-7.72 7.72c-.78.78-.78 2.05 0 2.83L4 21.41c.39.39.9.59 1.41.59.51 0 1.02-.2 1.41-.59l7.78-7.78 2.81-2.81c.8-.78.8-2.07 0-2.86zM5.41 20L4 18.59l7.72-7.72 1.47 1.35L5.41 20z\"/>\n",
              "  </svg>\n",
              "      </button>\n",
              "      \n",
              "  <style>\n",
              "    .colab-df-container {\n",
              "      display:flex;\n",
              "      flex-wrap:wrap;\n",
              "      gap: 12px;\n",
              "    }\n",
              "\n",
              "    .colab-df-convert {\n",
              "      background-color: #E8F0FE;\n",
              "      border: none;\n",
              "      border-radius: 50%;\n",
              "      cursor: pointer;\n",
              "      display: none;\n",
              "      fill: #1967D2;\n",
              "      height: 32px;\n",
              "      padding: 0 0 0 0;\n",
              "      width: 32px;\n",
              "    }\n",
              "\n",
              "    .colab-df-convert:hover {\n",
              "      background-color: #E2EBFA;\n",
              "      box-shadow: 0px 1px 2px rgba(60, 64, 67, 0.3), 0px 1px 3px 1px rgba(60, 64, 67, 0.15);\n",
              "      fill: #174EA6;\n",
              "    }\n",
              "\n",
              "    [theme=dark] .colab-df-convert {\n",
              "      background-color: #3B4455;\n",
              "      fill: #D2E3FC;\n",
              "    }\n",
              "\n",
              "    [theme=dark] .colab-df-convert:hover {\n",
              "      background-color: #434B5C;\n",
              "      box-shadow: 0px 1px 3px 1px rgba(0, 0, 0, 0.15);\n",
              "      filter: drop-shadow(0px 1px 2px rgba(0, 0, 0, 0.3));\n",
              "      fill: #FFFFFF;\n",
              "    }\n",
              "  </style>\n",
              "\n",
              "      <script>\n",
              "        const buttonEl =\n",
              "          document.querySelector('#df-738f6fcf-705f-43ad-839d-d0d7b670e1f5 button.colab-df-convert');\n",
              "        buttonEl.style.display =\n",
              "          google.colab.kernel.accessAllowed ? 'block' : 'none';\n",
              "\n",
              "        async function convertToInteractive(key) {\n",
              "          const element = document.querySelector('#df-738f6fcf-705f-43ad-839d-d0d7b670e1f5');\n",
              "          const dataTable =\n",
              "            await google.colab.kernel.invokeFunction('convertToInteractive',\n",
              "                                                     [key], {});\n",
              "          if (!dataTable) return;\n",
              "\n",
              "          const docLinkHtml = 'Like what you see? Visit the ' +\n",
              "            '<a target=\"_blank\" href=https://colab.research.google.com/notebooks/data_table.ipynb>data table notebook</a>'\n",
              "            + ' to learn more about interactive tables.';\n",
              "          element.innerHTML = '';\n",
              "          dataTable['output_type'] = 'display_data';\n",
              "          await google.colab.output.renderOutput(dataTable, element);\n",
              "          const docLink = document.createElement('div');\n",
              "          docLink.innerHTML = docLinkHtml;\n",
              "          element.appendChild(docLink);\n",
              "        }\n",
              "      </script>\n",
              "    </div>\n",
              "  </div>\n",
              "  "
            ]
          },
          "metadata": {},
          "execution_count": 37
        }
      ]
    },
    {
      "cell_type": "code",
      "source": [
        "fig, axes = plt.subplots(5, 2, figsize = (20,15))\n",
        "fig.subplots_adjust(hspace=0.7, wspace=0.2)\n",
        "fig.suptitle('Distribuição das features do dataframe orders')\n",
        "\n",
        "#Métodos de pagamentos\n",
        "sns.countplot(ax=axes[0, 0],x=orders2['payment_method'])\n",
        "axes[0, 0].tick_params(axis='x', rotation=90)\n",
        "axes[0, 0].set(xlabel='Métodos de pagamentos', ylabel='Contagem')\n",
        "\n",
        "#Número de parcelas\n",
        "sns.countplot(ax=axes[0, 1],x=orders2['installments'])\n",
        "axes[0, 1].tick_params(axis='x', rotation=90)\n",
        "axes[0, 1].set(xlabel='Número de parcelas', ylabel='Contagem')\n",
        "\n",
        "#Dias para entregas\n",
        "sns.histplot(ax=axes[1, 0], x=orders2['delivery_days'], bins=25, kde=True)\n",
        "axes[1, 0].tick_params(axis='x', rotation=90)\n",
        "axes[1, 0].set(xlabel='Dias para entregas\\n Média: ' + str(orders2['delivery_days'].mean()) + ' Mediana: ' + str(orders2['delivery_days'].median()), ylabel='Frequência')\n",
        "\n",
        "#Dias para entregas - boxplot\n",
        "sns.boxplot(ax=axes[2, 0],x=orders2['delivery_days'])\n",
        "axes[2, 0].tick_params(axis='x', rotation=90)\n",
        "axes[2, 0].set(xlabel='Dias para entregas\\n Média: ' + str(orders2['delivery_days'].mean()) + ' Mediana: ' + str(orders2['delivery_days'].median()))\n",
        "\n",
        "#Entregas por estado\n",
        "sns.countplot(ax=axes[1, 1],x=orders2['delivery_state'])\n",
        "axes[1, 1].tick_params(axis='x', rotation=90)\n",
        "axes[1, 1].set(xlabel='Entregas por estado', ylabel='Contagem')\n",
        "\n",
        "#Dispositivos\n",
        "sns.countplot(ax=axes[3, 1],x=orders2['device'])\n",
        "axes[3, 1].tick_params(axis='x', rotation=90)\n",
        "axes[3, 1].set(xlabel='Dispositivos', ylabel='Contagem')\n",
        "\n",
        "#Canal de Marketing\n",
        "sns.countplot(ax=axes[2, 1],x=orders2['source'])\n",
        "axes[2, 1].tick_params(axis='x', rotation=90)\n",
        "axes[2, 1].set(xlabel='Canal de Marketing', ylabel='Contagem')\n",
        "\n",
        "#Preço\n",
        "sns.histplot(ax=axes[3, 0], x=orders2['price'], bins=50, kde=True)\n",
        "axes[3, 0].tick_params(axis='x', rotation=90)\n",
        "axes[3, 0].set(xlabel='Preço\\n Média: ' + str(orders2['price'].mean()) + ' Mediana: ' + str(orders2['price'].median()), ylabel='Frequência')\n",
        "\n",
        "#Preços - boxplot\n",
        "sns.boxplot(ax=axes[4, 0],x=orders2['price'])\n",
        "axes[4, 0].tick_params(axis='x', rotation=90)\n",
        "axes[4, 0].set(xlabel='Preço\\n Média: ' + str(orders2['price'].mean()) + ' Mediana: ' + str(orders2['price'].median()))\n",
        "\n",
        "plt.show();"
      ],
      "metadata": {
        "id": "SNdFSLw2if8k",
        "colab": {
          "base_uri": "https://localhost:8080/",
          "height": 1000
        },
        "outputId": "e07b03b3-f106-49f4-c113-76733e4f0de7"
      },
      "execution_count": 38,
      "outputs": [
        {
          "output_type": "display_data",
          "data": {
            "text/plain": [
              "<Figure size 1440x1080 with 10 Axes>"
            ],
            "image/png": "[encoded data removed]"
          },
          "metadata": {
            "needs_background": "light"
          }
        }
      ]
    },
    {
      "cell_type": "markdown",
      "source": [
        "* Pedidos por dia"
      ],
      "metadata": {
        "id": "hizdeDZxB9gR"
      }
    },
    {
      "cell_type": "code",
      "source": [
        "total_dia = orders.groupby([orders['datetime'].dt.date]).sum()[['price', 'units']]\n",
        "total_dia.reset_index(inplace=True)\n",
        "total_dia.head()"
      ],
      "metadata": {
        "colab": {
          "base_uri": "https://localhost:8080/",
          "height": 206
        },
        "id": "qZ2lqOoVCIQZ",
        "outputId": "f6c06637-235c-404c-c19b-697e7303d46b"
      },
      "execution_count": 39,
      "outputs": [
        {
          "output_type": "execute_result",
          "data": {
            "text/plain": [
              "     datetime       price       units\n",
              "0  2019-01-01    20303.02    75.00000\n",
              "1  2019-01-02   132107.11   456.00370\n",
              "2  2019-01-03   108517.03   605.59330\n",
              "3  2019-01-04  1639738.97  7331.08522\n",
              "4  2019-01-05   731428.44  2397.07976"
            ],
            "text/html": [
              "\n",
              "  <div id=\"df-6ad39439-5c4a-47c5-af7f-d8e42dc46583\">\n",
              "    <div class=\"colab-df-container\">\n",
              "      <div>\n",
              "<style scoped>\n",
              "    .dataframe tbody tr th:only-of-type {\n",
              "        vertical-align: middle;\n",
              "    }\n",
              "\n",
              "    .dataframe tbody tr th {\n",
              "        vertical-align: top;\n",
              "    }\n",
              "\n",
              "    .dataframe thead th {\n",
              "        text-align: right;\n",
              "    }\n",
              "</style>\n",
              "<table border=\"1\" class=\"dataframe\">\n",
              "  <thead>\n",
              "    <tr style=\"text-align: right;\">\n",
              "      <th></th>\n",
              "      <th>datetime</th>\n",
              "      <th>price</th>\n",
              "      <th>units</th>\n",
              "    </tr>\n",
              "  </thead>\n",
              "  <tbody>\n",
              "    <tr>\n",
              "      <th>0</th>\n",
              "      <td>2019-01-01</td>\n",
              "      <td>20303.02</td>\n",
              "      <td>75.00000</td>\n",
              "    </tr>\n",
              "    <tr>\n",
              "      <th>1</th>\n",
              "      <td>2019-01-02</td>\n",
              "      <td>132107.11</td>\n",
              "      <td>456.00370</td>\n",
              "    </tr>\n",
              "    <tr>\n",
              "      <th>2</th>\n",
              "      <td>2019-01-03</td>\n",
              "      <td>108517.03</td>\n",
              "      <td>605.59330</td>\n",
              "    </tr>\n",
              "    <tr>\n",
              "      <th>3</th>\n",
              "      <td>2019-01-04</td>\n",
              "      <td>1639738.97</td>\n",
              "      <td>7331.08522</td>\n",
              "    </tr>\n",
              "    <tr>\n",
              "      <th>4</th>\n",
              "      <td>2019-01-05</td>\n",
              "      <td>731428.44</td>\n",
              "      <td>2397.07976</td>\n",
              "    </tr>\n",
              "  </tbody>\n",
              "</table>\n",
              "</div>\n",
              "      <button class=\"colab-df-convert\" onclick=\"convertToInteractive('df-6ad39439-5c4a-47c5-af7f-d8e42dc46583')\"\n",
              "              title=\"Convert this dataframe to an interactive table.\"\n",
              "              style=\"display:none;\">\n",
              "        \n",
              "  <svg xmlns=\"http://www.w3.org/2000/svg\" height=\"24px\"viewBox=\"0 0 24 24\"\n",
              "       width=\"24px\">\n",
              "    <path d=\"M0 0h24v24H0V0z\" fill=\"none\"/>\n",
              "    <path d=\"M18.56 5.44l.94 2.06.94-2.06 2.06-.94-2.06-.94-.94-2.06-.94 2.06-2.06.94zm-11 1L8.5 8.5l.94-2.06 2.06-.94-2.06-.94L8.5 2.5l-.94 2.06-2.06.94zm10 10l.94 2.06.94-2.06 2.06-.94-2.06-.94-.94-2.06-.94 2.06-2.06.94z\"/><path d=\"M17.41 7.96l-1.37-1.37c-.4-.4-.92-.59-1.43-.59-.52 0-1.04.2-1.43.59L10.3 9.45l-7.72 7.72c-.78.78-.78 2.05 0 2.83L4 21.41c.39.39.9.59 1.41.59.51 0 1.02-.2 1.41-.59l7.78-7.78 2.81-2.81c.8-.78.8-2.07 0-2.86zM5.41 20L4 18.59l7.72-7.72 1.47 1.35L5.41 20z\"/>\n",
              "  </svg>\n",
              "      </button>\n",
              "      \n",
              "  <style>\n",
              "    .colab-df-container {\n",
              "      display:flex;\n",
              "      flex-wrap:wrap;\n",
              "      gap: 12px;\n",
              "    }\n",
              "\n",
              "    .colab-df-convert {\n",
              "      background-color: #E8F0FE;\n",
              "      border: none;\n",
              "      border-radius: 50%;\n",
              "      cursor: pointer;\n",
              "      display: none;\n",
              "      fill: #1967D2;\n",
              "      height: 32px;\n",
              "      padding: 0 0 0 0;\n",
              "      width: 32px;\n",
              "    }\n",
              "\n",
              "    .colab-df-convert:hover {\n",
              "      background-color: #E2EBFA;\n",
              "      box-shadow: 0px 1px 2px rgba(60, 64, 67, 0.3), 0px 1px 3px 1px rgba(60, 64, 67, 0.15);\n",
              "      fill: #174EA6;\n",
              "    }\n",
              "\n",
              "    [theme=dark] .colab-df-convert {\n",
              "      background-color: #3B4455;\n",
              "      fill: #D2E3FC;\n",
              "    }\n",
              "\n",
              "    [theme=dark] .colab-df-convert:hover {\n",
              "      background-color: #434B5C;\n",
              "      box-shadow: 0px 1px 3px 1px rgba(0, 0, 0, 0.15);\n",
              "      filter: drop-shadow(0px 1px 2px rgba(0, 0, 0, 0.3));\n",
              "      fill: #FFFFFF;\n",
              "    }\n",
              "  </style>\n",
              "\n",
              "      <script>\n",
              "        const buttonEl =\n",
              "          document.querySelector('#df-6ad39439-5c4a-47c5-af7f-d8e42dc46583 button.colab-df-convert');\n",
              "        buttonEl.style.display =\n",
              "          google.colab.kernel.accessAllowed ? 'block' : 'none';\n",
              "\n",
              "        async function convertToInteractive(key) {\n",
              "          const element = document.querySelector('#df-6ad39439-5c4a-47c5-af7f-d8e42dc46583');\n",
              "          const dataTable =\n",
              "            await google.colab.kernel.invokeFunction('convertToInteractive',\n",
              "                                                     [key], {});\n",
              "          if (!dataTable) return;\n",
              "\n",
              "          const docLinkHtml = 'Like what you see? Visit the ' +\n",
              "            '<a target=\"_blank\" href=https://colab.research.google.com/notebooks/data_table.ipynb>data table notebook</a>'\n",
              "            + ' to learn more about interactive tables.';\n",
              "          element.innerHTML = '';\n",
              "          dataTable['output_type'] = 'display_data';\n",
              "          await google.colab.output.renderOutput(dataTable, element);\n",
              "          const docLink = document.createElement('div');\n",
              "          docLink.innerHTML = docLinkHtml;\n",
              "          element.appendChild(docLink);\n",
              "        }\n",
              "      </script>\n",
              "    </div>\n",
              "  </div>\n",
              "  "
            ]
          },
          "metadata": {},
          "execution_count": 39
        }
      ]
    },
    {
      "cell_type": "code",
      "source": [
        "fig, axes = plt.subplots(1, 2, figsize = (20,5))\n",
        "fig.subplots_adjust(hspace=0.7, wspace=0.2)\n",
        "fig.suptitle('Totais dos pedidos por dia')\n",
        "\n",
        "#Total de vendas por dia\n",
        "sns.lineplot(data=total_dia, x=\"datetime\", y=\"price\", ax=axes[0])\n",
        "axes[0].tick_params(axis='x', rotation=90)\n",
        "axes[0].set(xlabel='Dias', ylabel='Total vendas')\n",
        "\n",
        "#Unidades por dia\n",
        "sns.lineplot(data=total_dia, x=\"datetime\", y=\"units\", ax=axes[1])\n",
        "axes[1].tick_params(axis='x', rotation=90)\n",
        "axes[1].set(xlabel='Unidades', ylabel='Total unidades')\n",
        "\n",
        "plt.plot()"
      ],
      "metadata": {
        "colab": {
          "base_uri": "https://localhost:8080/",
          "height": 418
        },
        "id": "Bk6UNE4bH2pz",
        "outputId": "69ec08ee-cb0d-4cd8-e085-9cdfcdf3d0cf"
      },
      "execution_count": 40,
      "outputs": [
        {
          "output_type": "execute_result",
          "data": {
            "text/plain": [
              "[]"
            ]
          },
          "metadata": {},
          "execution_count": 40
        },
        {
          "output_type": "display_data",
          "data": {
            "text/plain": [
              "<Figure size 1440x360 with 2 Axes>"
            ],
            "image/png": "[encoded data removed]"
          },
          "metadata": {
            "needs_background": "light"
          }
        }
      ]
    },
    {
      "cell_type": "markdown",
      "metadata": {
        "id": "wX3a3ET5re25"
      },
      "source": [
        "## Limpeza & Pré-Processamento\n",
        "\n",
        "Depois de explorar os dados brutos, é importante entender se já existem dados _outliers_ ou errados que corrompem ou invalidam certos registros (linhas da tabela) e que deveriam 1) serem tratados de alguma forma ou 2) eliminados do dataset. Se essa necessidade não surgiu com a EDA, das duas uma: ou não há realmente nada a fazer, ou é necessário explorar mais os dados pra entendê-los."
      ]
    },
    {
      "cell_type": "code",
      "metadata": {
        "id": "cY5a7HMZeUSN"
      },
      "source": [
        "''' Espaço reservado para a Solução '''"
      ],
      "execution_count": null,
      "outputs": []
    },
    {
      "cell_type": "markdown",
      "source": [
        "### Dados de anos de clientes com idades muito altas"
      ],
      "metadata": {
        "id": "K-EZD6P-RFuT"
      }
    },
    {
      "cell_type": "code",
      "source": [
        "clients_tr_80 = clients_tr.loc[clients_tr['anos'] >= 80]\n",
        "print(f'Maiores de 80: {clients_tr_80.shape[0]} ({(clients_tr_80.shape[0]*100)/clients_tr.shape[0]:.2f}%)')\n",
        "clients_tr_85 = clients_tr.loc[clients_tr['anos'] >= 85]\n",
        "print(f'Maiores de 85: {clients_tr_85.shape[0]} ({(clients_tr_85.shape[0]*100)/clients_tr.shape[0]:.2f}%)')\n",
        "clients_tr_90 = clients_tr.loc[clients_tr['anos'] >= 90]\n",
        "print(f'Maiores de 90: {clients_tr_90.shape[0]} ({(clients_tr_90.shape[0]*100)/clients_tr.shape[0]:.2f}%)')\n",
        "clients_tr_95 = clients_tr.loc[clients_tr['anos'] >= 95]\n",
        "print(f'Maiores de 95: {clients_tr_95.shape[0]} ({(clients_tr_95.shape[0]*100)/clients_tr.shape[0]:.2f}%)')\n",
        "clients_tr_100 = clients_tr.loc[clients_tr['anos'] >= 100]\n",
        "print(f'Maiores de 100: {clients_tr_100.shape[0]} ({(clients_tr_100.shape[0]*100)/clients_tr.shape[0]:.2f}%)')\n",
        "clients_tr_105 = clients_tr.loc[clients_tr['anos'] >= 105]\n",
        "print(f'Maiores de 105: {clients_tr_105.shape[0]} ({(clients_tr_105.shape[0]*100)/clients_tr.shape[0]:.2f}%)')\n",
        "clients_tr_110 = clients_tr.loc[clients_tr['anos'] >= 110]\n",
        "print(f'Maiores de 110: {clients_tr_110.shape[0]} ({(clients_tr_110.shape[0]*100)/clients_tr.shape[0]:.2f}%)')\n",
        "print('------')\n",
        "print(f'Total de linhas no dataframe: {clients_tr.shape[0]}')"
      ],
      "metadata": {
        "colab": {
          "base_uri": "https://localhost:8080/"
        },
        "id": "O_LX85mURSBU",
        "outputId": "e2e4ed99-af49-424f-f7c2-5bb10e6500af"
      },
      "execution_count": 61,
      "outputs": [
        {
          "output_type": "stream",
          "name": "stdout",
          "text": [
            "Maiores de 80: 187 (0.80%)\n",
            "Maiores de 85: 59 (0.25%)\n",
            "Maiores de 90: 21 (0.09%)\n",
            "Maiores de 95: 11 (0.05%)\n",
            "Maiores de 100: 9 (0.04%)\n",
            "Maiores de 105: 8 (0.03%)\n",
            "Maiores de 110: 8 (0.03%)\n",
            "------\n",
            "Total de linhas no dataframe: 23292\n"
          ]
        }
      ]
    },
    {
      "cell_type": "code",
      "source": [
        "#Idade antes da exclusão dos outliers\n",
        "sns.boxplot(x=clients_tr['anos'])"
      ],
      "metadata": {
        "colab": {
          "base_uri": "https://localhost:8080/",
          "height": 296
        },
        "id": "bPNPFyo3VOvg",
        "outputId": "9aa885bc-e44f-4645-8ef5-54e95c3f53b4"
      },
      "execution_count": 57,
      "outputs": [
        {
          "output_type": "execute_result",
          "data": {
            "text/plain": [
              "<matplotlib.axes._subplots.AxesSubplot at 0x7f0389a7b950>"
            ]
          },
          "metadata": {},
          "execution_count": 57
        },
        {
          "output_type": "display_data",
          "data": {
            "text/plain": [
              "<Figure size 432x288 with 1 Axes>"
            ],
            "image/png": "[encoded data removed]"
          },
          "metadata": {
            "needs_background": "light"
          }
        }
      ]
    },
    {
      "cell_type": "code",
      "source": [
        "#Idade depois da exclusão dos outliers\n",
        "clients_tr = clients_tr.drop(clients_tr[clients_tr['anos'] >= 80].index)\n",
        "sns.boxplot(x=clients_tr['anos'])"
      ],
      "metadata": {
        "colab": {
          "base_uri": "https://localhost:8080/",
          "height": 296
        },
        "id": "n8Aqa1CgVv6q",
        "outputId": "5a531eb9-77db-4ef3-83ab-e76e40ca35af"
      },
      "execution_count": 62,
      "outputs": [
        {
          "output_type": "execute_result",
          "data": {
            "text/plain": [
              "<matplotlib.axes._subplots.AxesSubplot at 0x7f0389a7b510>"
            ]
          },
          "metadata": {},
          "execution_count": 62
        },
        {
          "output_type": "display_data",
          "data": {
            "text/plain": [
              "<Figure size 432x288 with 1 Axes>"
            ],
            "image/png": "[encoded data removed]"
          },
          "metadata": {
            "needs_background": "light"
          }
        }
      ]
    },
    {
      "cell_type": "markdown",
      "metadata": {
        "id": "2jzHNoevre8K"
      },
      "source": [
        "## *Feature Engineering*\n",
        "\n",
        "Essa é a etapa que pode dar mais trabalho, devido ao formato de eventos da **tabela de vendas**. Para facilitar um pouco, será dada a seguir uma sugestão de _feature engineering_. Caso haja uma vontade de incluir mais _features_, basta editar o código a seguir.\n"
      ]
    },
    {
      "cell_type": "markdown",
      "metadata": {
        "id": "HKNJkTGU5j7_"
      },
      "source": [
        "### Funções Auxiliares\n",
        "\n",
        "Funções para ajudar nas diferentes ĩdéias de _feature engineering_."
      ]
    },
    {
      "cell_type": "code",
      "metadata": {
        "id": "Vm3DLJI_-Qc1"
      },
      "source": [
        "from sklearn.base import BaseEstimator, TransformerMixin\n",
        "from sklearn.pipeline import Pipeline\n",
        "from sklearn.impute import SimpleImputer"
      ],
      "execution_count": null,
      "outputs": []
    },
    {
      "cell_type": "code",
      "metadata": {
        "id": "9ph3kb0H5kEP"
      },
      "source": [
        "class OrderAggregatorFeaturesTransform(BaseEstimator, TransformerMixin):\n",
        "    \"\"\" Classe base para FeaturesTransformers que usam os dados de Histórico de Vendas para extrair os dados.\n",
        "    \"\"\"\n",
        "    \n",
        "    def __init__(self, orders_table, columns=None, product_table=None, imputer=None):\n",
        "        \n",
        "        self.work_table = None\n",
        "        if product_table is not None:\n",
        "            self.refr_table = pd.merge(\n",
        "                orders_table,\n",
        "                product_table.reset_index(),\n",
        "                on='product_id'\n",
        "            )\n",
        "        else:\n",
        "            self.refr_table = orders_table.copy()\n",
        "        if columns is not None:\n",
        "            self.refr_table = self.refr_table[['client_id', *columns]]\n",
        "        self._reset_database()\n",
        "        self.imputer = imputer\n",
        "        self.columns = columns\n",
        "\n",
        "    def _reset_database(self):\n",
        "        self.work_table = self.refr_table.copy()\n",
        "        return self\n",
        "\n",
        "    def _process_client(self, df):\n",
        "        return df.set_index('client_id')\n",
        "\n",
        "    def _select_orders(self, df):\n",
        "        idx = self.work_table['client_id'].isin(df.index)\n",
        "        return self.work_table[idx]\n",
        "\n",
        "    def fit(self, X, y=None, **fit_params):\n",
        "        if self.imputer is not None:\n",
        "            self._reset_database()\n",
        "            self.imputer.fit(self._select_orders(X)[self.columns])\n",
        "            self.work_table.loc[:, self.columns] = self.imputer.transform(self.work_table[self.columns])\n",
        "        return self\n",
        "    \n",
        "    def transform(self, X):\n",
        "        return self._select_orders(X).groupby('client_id').apply(self._process_client)"
      ],
      "execution_count": null,
      "outputs": []
    },
    {
      "cell_type": "code",
      "metadata": {
        "id": "vy39ML84DELL"
      },
      "source": [
        "class UniqueCounterTransform(OrderAggregatorFeaturesTransform):\n",
        "\n",
        "    def _process_client(self, df):\n",
        "        tmp = super()._process_client(df)\n",
        "        return tmp.apply(lambda x: len(x.unique())).rename(index=lambda x: f'count_{x}')"
      ],
      "execution_count": null,
      "outputs": []
    },
    {
      "cell_type": "code",
      "metadata": {
        "id": "HFHMcXfJH7NJ"
      },
      "source": [
        "class SumValuesTransform(OrderAggregatorFeaturesTransform):\n",
        "\n",
        "    def _process_client(self, df):\n",
        "        tmp = super()._process_client(df)\n",
        "        return tmp.sum().rename(index=lambda x: f'sum_{x}')"
      ],
      "execution_count": null,
      "outputs": []
    },
    {
      "cell_type": "code",
      "metadata": {
        "id": "hyN9jFWOfLWO"
      },
      "source": [
        "class DistributionTransform(OrderAggregatorFeaturesTransform):\n",
        "\n",
        "    def _process_client(self, df):\n",
        "        tmp = (super()\n",
        "               ._process_client(df)\n",
        "               .describe()\n",
        "               .drop(index='count')\n",
        "               .rename(index=lambda c: c.replace('%', 'p')) \n",
        "               .rename(index={'mean': 'avg'})\n",
        "               .unstack())\n",
        "        tmp.index = tmp.index.map('_'.join)\n",
        "        return tmp"
      ],
      "execution_count": null,
      "outputs": []
    },
    {
      "cell_type": "code",
      "metadata": {
        "id": "vFPa6ukNtAGc"
      },
      "source": [
        "class CountStateMatchesTransform(OrderAggregatorFeaturesTransform):\n",
        "    \n",
        "    def _process_client(self, df):\n",
        "        tmp = df.set_index('client_id')[['state', 'delivery_state']]\n",
        "        return pd.Series({\n",
        "            'count_orders_states_eq': (tmp.state == tmp.delivery_state).sum(),\n",
        "            'count_orders_states_ne': (tmp.state != tmp.delivery_state).sum()\n",
        "        })\n",
        "\n",
        "    def transform(self, X):\n",
        "        return (\n",
        "            pd.merge(\n",
        "                self._select_orders(X),\n",
        "                X[['state']].reset_index(),\n",
        "                on='client_id'\n",
        "            ).groupby('client_id').apply(self._process_client)\n",
        "        )"
      ],
      "execution_count": null,
      "outputs": []
    },
    {
      "cell_type": "markdown",
      "metadata": {
        "id": "fPEaYXRqw-_n"
      },
      "source": [
        "### Sugestão de Feature Engineering\t\t\n",
        "\n",
        "Algumas features interessantes para serem extraidas dos dados, por cliente, estão mostradas a seguir.\n",
        "\n",
        "- `gender_g1`: __bool_ calculada a partir do `gender`\n",
        "- `client_age`: calculada a partir do `birthdate`\n",
        "\n",
        "- `sum_units`: total de itens comprados em 2019\n",
        "- `sum_volume`: total gasto em compras em 2019\n",
        "\n",
        "- `count_orders_states_ne`: quantidade de compras entregando em estados diferentes ao do cliente\n",
        "- `count_orders_states_eq`: quantidade de compras entregando em estados iguais ao do cliente\n",
        "\n",
        "- `count_product_id`: quantidade de produtos diferentes presentes nas compras\n",
        "- `count_device`: quantidade de produtos diferentes presentes nas compras\n",
        "- `count_source`: quantidade de produtos diferentes presentes nas compras\n",
        "- `count_payment_method`: quantidade de meios de pagamento em compras\n",
        "\n",
        "- `count_category_lv0`: quantidade de categorias diferentes (nível 0) em compras\n",
        "- `count_category_lv1`: quantidade de categorias diferentes (nível 1) em compras\n",
        "- `count_category_lv2`: quantidade de categorias diferentes (nível 2) em compras\n",
        "- `count_category_lv3`: quantidade de categorias diferentes (nível 3) em compras\n",
        "- `count_category_lv4`: quantidade de categorias diferentes (nível 4) em compras\n",
        "\n",
        "- `price_avg`: média dos preços pagos em cada item comprado\n",
        "- `price_std`: desvio padrão dos preços pagos em cada item comprado\n",
        "- `price_min`: mínimo dos preços pagos em cada item comprado\n",
        "- `price_25p`: quartil 25% dos preços pagos em cada item comprado\n",
        "- `price_50p`: quartil 50% dos preços pagos em cada item comprado\n",
        "- `price_75p`: quartil 75% dos preços pagos em cada item comprado\n",
        "- `price_max`: máximo dos preços pagos em cada item comprado\n",
        "\n",
        "- `delivery_days_avg`: média da quantidade de dias para entregar (prazo)\n",
        "- `delivery_days_std`: desvio padrão da quantidade de dias para entregar (prazo)\n",
        "- `delivery_days_min`: mínimo da quantidade de dias para entregar (prazo)\n",
        "- `delivery_days_25p`: quartil 25% da quantidade de dias para entregar (prazo)\n",
        "- `delivery_days_50p`: quartil 50% da quantidade de dias para entregar (prazo)\n",
        "- `delivery_days_75p`: quartil 75% da quantidade de dias para entregar (prazo)\n",
        "- `delivery_days_max`: máximo da quantidade de dias para entregar (prazo)\n",
        "\n",
        "- `installments_avg`: média da quantidade de parcelas de pagamento\n",
        "- `installments_std`: desvio padrão da quantidade de parcelas de pagamento\n",
        "- `installments_min`: mínimo da quantidade de parcelas de pagamento\n",
        "- `installments_25p`: quartil 25% da quantidade de parcelas de pagamento\n",
        "- `installments_50p`: quartil 50% da quantidade de parcelas de pagamento\n",
        "- `installments_75p`: quartil 75% da quantidade de parcelas de pagamento\n",
        "- `installments_max`: máximo da quantidade de parcelas de pagamento"
      ]
    },
    {
      "cell_type": "code",
      "metadata": {
        "id": "dHOeK5VkpzB7"
      },
      "source": [
        "class FeatureEngineeringTransform(BaseEstimator, TransformerMixin):\n",
        "\n",
        "    def __init__(self, orders_table, product_table):\n",
        "        orders_table['volume'] = orders_table.units * orders_table.price\n",
        "        self._transf_sum = SumValuesTransform(orders_table=orders_table, columns=['units', 'volume'])\n",
        "        self._transf_stt = CountStateMatchesTransform(orders_table=orders_table[['client_id', 'delivery_state']])\n",
        "        self._transf_cnt = UniqueCounterTransform(\n",
        "            orders_table=orders_table, \n",
        "            product_table=product, \n",
        "            columns=['product_id', 'device', 'source', 'payment_method', \n",
        "                     'category_lv0', 'category_lv1', 'category_lv2', 'category_lv3', 'category_lv4']\n",
        "        )\n",
        "        self._transf_dst_med = DistributionTransform(\n",
        "            orders_table=orders_table, \n",
        "            product_table=product, \n",
        "            columns=['price', 'delivery_days'],\n",
        "            imputer=SimpleImputer(strategy='median')\n",
        "        )\n",
        "        self._transf_dst_one = DistributionTransform(\n",
        "            orders_table=orders_table, \n",
        "            product_table=product, \n",
        "            columns=['installments'],\n",
        "            imputer=SimpleImputer(strategy='constant', fill_value=1)\n",
        "        )\n",
        "        \n",
        "    def fit(self, X, y=None, **fit_params): \n",
        "        self._transf_dst_med.fit(X)\n",
        "        self._transf_dst_one.fit(X)\n",
        "        return self\n",
        "    \n",
        "    def transform(self, X):\n",
        "        output = (X[['gender']] == 'cg1').rename(columns={'gender': 'gender_cg1'})\n",
        "        output['client_age'] = 2021 - X.birthdate.dt.year\n",
        "        output = output.join(self._transf_sum.transform(X))\n",
        "        output = output.join(self._transf_stt.transform(X))\n",
        "        output = output.join(self._transf_cnt.transform(X))\n",
        "        output = output.join(self._transf_dst_med.transform(X))\n",
        "        output = output.join(self._transf_dst_one.transform(X))\n",
        "        return output"
      ],
      "execution_count": null,
      "outputs": []
    },
    {
      "cell_type": "code",
      "metadata": {
        "id": "HfFhhD2Iw_Hn"
      },
      "source": [
        "%%time\n",
        "feateng = FeatureEngineeringTransform(orders, product).fit(clients_tr)"
      ],
      "execution_count": null,
      "outputs": []
    },
    {
      "cell_type": "code",
      "metadata": {
        "id": "2sLFLRl-NJw_"
      },
      "source": [
        "feateng"
      ],
      "execution_count": null,
      "outputs": []
    },
    {
      "cell_type": "code",
      "metadata": {
        "id": "EOrB4MunEbbS"
      },
      "source": [
        "%%time\n",
        "train_dataset = feateng.transform(clients_tr)"
      ],
      "execution_count": null,
      "outputs": []
    },
    {
      "cell_type": "code",
      "metadata": {
        "id": "vl10km-GNDpe"
      },
      "source": [
        "train_dataset.to_csv('data/client.train.features.v1.csv')"
      ],
      "execution_count": null,
      "outputs": []
    },
    {
      "cell_type": "code",
      "metadata": {
        "id": "HVWuLS5mEbhT"
      },
      "source": [
        "%%time\n",
        "test_dataset = feateng.transform(clients_te)"
      ],
      "execution_count": null,
      "outputs": []
    },
    {
      "cell_type": "code",
      "metadata": {
        "id": "uRinmehsM-HX"
      },
      "source": [
        "test_dataset.to_csv('data/client.test.features.v1.sv')"
      ],
      "execution_count": null,
      "outputs": []
    },
    {
      "cell_type": "markdown",
      "metadata": {
        "id": "sxi2Og8si2H4"
      },
      "source": [
        "## Análise Exploratória nas Novas _Features_\n",
        "\n",
        "\n",
        "Regra de Ouro aqui: **cada vez que forem criadas _features_** nas etapas de _feature engineering_, deve ser feita uma **análise exploratória** para entender as distribuições dos dados. Novos dados trazem novos ângulos para  o problema e esses novos ângulos quase sempre trazem novas informações sobre o problema.\n",
        "\n",
        "Importante: se fizer sentido, pode-se adicionar mais uma etapa de **limpeza e pré-processamento** dos dados."
      ]
    },
    {
      "cell_type": "code",
      "metadata": {
        "id": "kQk8sHPbi2Sx"
      },
      "source": [
        "''' Espaço reservado para a Solução '''"
      ],
      "execution_count": null,
      "outputs": []
    },
    {
      "cell_type": "markdown",
      "metadata": {
        "id": "ABJmHZOGre5n"
      },
      "source": [
        "## Treinar um Modelo Baseline\n",
        "\n",
        "Antes de começar a treinar modelos muito complexos, sempre é interessante verificar **se um modelo mais simples já resolve**. Além da vantagem de adquirir mais conhecimento sobre o problema, com modelos simples como [árvores de decisão](https://scikit-learn.org/stable/modules/generated/sklearn.tree.DecisionTreeClassifier.html) ou uma boa [regressão logística](https://scikit-learn.org/stable/modules/generated/sklearn.linear_model.LogisticRegression.html) trazem bons insights sobre o que o modelo aprendeu sobre o problema durante  o treinamento. Com sorte, também é possível ter maior compreensao sobre o **impacto direto de cada _feature_** na decisão de saída do modelo, trazendo uma dimensão de explicabilidade para a solução.\n",
        "\n",
        "\n",
        "O modelo baseline deve ser avaliado em termos de performance de classificação usando métricas como **F-Score**, **precision**, **recall** e _frameworks_ de avaliação como a **matriz de confusão** e a **curva ROC**. Essas medidas **devem ser colocadas em uma tabela** identificada na primeira linha como **_benchmark_** para que, cada vez que se treinar outro modelo, esse modelo possa ser comparado nessas mesmas métricas com os outros. Um exemplo de tabela de comparação de resultados de modelos está [nessa aula de Balanceamento de _Datasets_](https://docs.google.com/presentation/d/1Y4ORsMqnlP2mYbYG30JwHl_VkIGB0XBdO_D8LmK1OAw/edit?usp=sharing) no **slide 124**.\n",
        "\n",
        "\n",
        "Importantíssimo: deve-se **sempre verificar se houve _overfit_ ou _underfit_** no treinamento. Uma forma fácil de fazer isso é **comparando métricas de treino e de teste** do mesmo modelo treinado. Assim, fica fácil entender se é necessário resolver problemas de **viés** ou de **variância** nas próximas iterações da construção da solução. \n",
        "\n",
        "\n",
        "Um último lembrete: **sempre comparar modelos sobre a mesma massa de teste**. Por esse motivo, o desafio já fornece os dados de teste em um arquivo separado, mas é importantíssimo comparar modelos diferentes sobre o **teste**, que na teoria é um _proxy_ do funcionamento do modleo no mundo real."
      ]
    },
    {
      "cell_type": "code",
      "metadata": {
        "id": "tv_eInXheVke"
      },
      "source": [
        "''' Espaço reservado para a Solução '''"
      ],
      "execution_count": null,
      "outputs": []
    },
    {
      "cell_type": "markdown",
      "metadata": {
        "id": "glKPMnfXr8Rf"
      },
      "source": [
        "## Treinar Modelos mais Complexos\n",
        "\n",
        "Após treinar um modelo **_baseline_** e comprender se o problema tem questões de **viés** ou de **variância** (ou ambos) a serem resolvidos, a idéia é treinar modelos mais complexos (e mais fortes) para maximizar a performance da solução. Como os modelos clássicos de _ensemble_ conseguem resolver esses tipos de problemas (e são modelos complexos por si), fica como sugestão a referência da [aula de _Ensembles_](https://docs.google.com/presentation/d/12zwm_gdUrxlY2YpFYTOOPqacyZg_FKqwNaOXGSn6idM/edit?usp=sharing), que sugere os tipos certos de modelos para cada problema.\n",
        "\n",
        "Algumas sugestões de modelos a serem treinados:\n",
        "\n",
        "- [Random Forest](https://scikit-learn.org/stable/modules/generated/sklearn.ensemble.RandomForestClassifier.html): _ensemble_ de árvores de decisão do tipo **_bagging_**, diminuem **variância**\n",
        "- [Gradient Boosted Trees](https://scikit-learn.org/stable/modules/generated/sklearn.ensemble.GradientBoostingClassifier.html): _ensemble_ de árvores de decisão do tipo **_boosting_**, diminuem **variância** e **viés**\n",
        "- [Support Vector Machines](https://scikit-learn.org/stable/modules/generated/sklearn.svm.LinearSVC.html): modelo com foco na otimização da separação entre as classes, muito eficientes em classificação binária\n",
        "\n",
        "Lembrando de sempre armazenar na **tabela de resultados** as métricas de cada modelo treinado.\n"
      ]
    },
    {
      "cell_type": "code",
      "metadata": {
        "id": "cf9XtIpdeWSp"
      },
      "source": [
        "''' Espaço reservado para a Solução '''"
      ],
      "execution_count": null,
      "outputs": []
    },
    {
      "cell_type": "markdown",
      "metadata": {
        "id": "Z16yQeanr8WS"
      },
      "source": [
        "## Agrupando Modelos em um *Ensemble*\n",
        "\n",
        "Com vários modelos treinados, é interessante treinar um [_ensemble_ do tipo _stacking_](https://scikit-learn.org/stable/modules/generated/sklearn.ensemble.StackingClassifier.html) com os modelos mais promissores dentre os treinados. \n",
        "\n",
        "\n",
        "Antes de treinar o _stacking_, deve-se buscar entender **quais modelos são interessantes** para compor esse _ensemble_, já que há bastante custo computacional envolvido em combinar modelos. Uma técnica interessante é **verificar quais modelos são mais complementares** e qual combinação de modelos teria o **potencial ótimo**, i.e. o maior ganho teórico. A primeira parte da [aula de _Ensembles_](https://docs.google.com/presentation/d/12zwm_gdUrxlY2YpFYTOOPqacyZg_FKqwNaOXGSn6idM/edit?usp=sharing) mostra esse racional no **slide 22**.\n",
        "\n",
        "\n"
      ]
    },
    {
      "cell_type": "code",
      "metadata": {
        "id": "5UO8pmvteW-W"
      },
      "source": [
        "''' Espaço reservado para a Solução '''"
      ],
      "execution_count": null,
      "outputs": []
    },
    {
      "cell_type": "markdown",
      "metadata": {
        "id": "xawbSDwMsk2N"
      },
      "source": [
        "## Envio das Previsões do Desafio\n",
        "\n",
        "Após o treinamento, é interessante fazer uma análise da **tabela de resultados** atualizada e compreender a evolução das soluções. Depois, **escolher a melhor solução** e enviar os resultados do modelo sobre os dados em `clients.challenge` para a competição de modelos por [esse formulário]().\n",
        "\n",
        "O **formato do arquivo** que deve ser submetido é uma tabela com duas colunas:\n",
        "- `client_id`: todos os IDs de cliente do arquivo *clients.challenge.csv*\n",
        "- `is_churn`: decisão sobre cada cliente; apenas será aceito o formato binário, com saída igual a `True` ou `False`.\n",
        "\n",
        "**IMPORTANTE**: por limitações do formulário, o arquivo deve ter extensão `.txt` se for do tipo CSV ou `xls` (ou `xlsx`) se for uma planilha do excel."
      ]
    },
    {
      "cell_type": "code",
      "metadata": {
        "id": "rqphu64zeXlH"
      },
      "source": [
        "''' Espaço reservado para a Solução '''"
      ],
      "execution_count": null,
      "outputs": []
    },
    {
      "cell_type": "markdown",
      "metadata": {
        "id": "2Tmgfh2qtbYI"
      },
      "source": [
        "## Insights & Levantamento de Hipóteses\n",
        "\n",
        "Durante o desenvolvimento das soluções e as explorações, é muito provável que alguns _insights_ e hipóteses tenham surgido. Nessa última etapa é o momento de escrever eses pontos de forma estruturada e preparar o **banco de hipóteses** para mais uma rodada de solução. Afinal, se há espaço para melhoras, esse banco pode ser uma fonte de boas idéias de onde começar."
      ]
    }
  ]
}